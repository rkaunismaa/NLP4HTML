{
 "cells": [
  {
   "cell_type": "markdown",
   "metadata": {},
   "source": [
    "So let's give scrapy a whirl, shall we ... \n",
    "\n",
    "https://docs.scrapy.org/en/latest/intro/tutorial.html\n",
    "\n",
    "https://towardsdatascience.com/run-scrapy-code-from-jupyter-notebook-without-issues-69b7cb79530c"
   ]
  },
  {
   "cell_type": "code",
   "execution_count": 1,
   "metadata": {},
   "outputs": [],
   "source": [
    "# scrape webpage\n",
    "import scrapy\n",
    "from scrapy.crawler import CrawlerProcess\n",
    "# text cleaning\n",
    "import re"
   ]
  },
  {
   "cell_type": "code",
   "execution_count": 2,
   "metadata": {},
   "outputs": [],
   "source": [
    "class QuotesToCsv(scrapy.Spider):\n",
    "    \"\"\"scrape first line of  quotes from `wikiquote` by \n",
    "    Maynard James Keenan and save to json file\"\"\"\n",
    "    name = \"MJKQuotesToCsv\"\n",
    "\n",
    "    start_urls = [\n",
    "        'https://en.wikiquote.org/wiki/Maynard_James_Keenan',\n",
    "    ]\n",
    "\n",
    "    custom_settings = {\n",
    "        'ITEM_PIPELINES': {\n",
    "            '__main__.ExtractFirstLine': 1\n",
    "        },\n",
    "        'FEEDS': {\n",
    "            'wikiQuotes.csv': {\n",
    "                'format': 'csv',\n",
    "                'overwrite': True\n",
    "            }\n",
    "        }\n",
    "    }\n",
    "    \n",
    "\n",
    "    def parse(self, response):\n",
    "        \"\"\"parse data from urls\"\"\"\n",
    "        for quote in response.css('div.mw-parser-output > ul > li'):\n",
    "            yield {'quote': quote.extract()}"
   ]
  },
  {
   "cell_type": "code",
   "execution_count": 3,
   "metadata": {},
   "outputs": [],
   "source": [
    "class ExtractFirstLine(object):\n",
    "    def process_item(self, item, spider):\n",
    "        \"\"\"text processing\"\"\"\n",
    "        lines = dict(item)[\"quote\"].splitlines()\n",
    "        first_line = self.__remove_html_tags__(lines[0])\n",
    "\n",
    "        return {'quote': first_line}\n",
    "\n",
    "    def __remove_html_tags__(self, text):\n",
    "        \"\"\"remove html tags from string\"\"\"\n",
    "        html_tags = re.compile('<.*?>')\n",
    "        return re.sub(html_tags, '', text)"
   ]
  },
  {
   "cell_type": "code",
   "execution_count": 4,
   "metadata": {},
   "outputs": [
    {
     "name": "stderr",
     "output_type": "stream",
     "text": [
      "2023-07-17 16:49:39 [scrapy.utils.log] INFO: Scrapy 2.9.0 started (bot: scrapybot)\n",
      "2023-07-17 16:49:39 [scrapy.utils.log] INFO: Versions: lxml 4.9.2.0, libxml2 2.9.14, cssselect 1.2.0, parsel 1.8.1, w3lib 2.1.1, Twisted 22.10.0, Python 3.8.10 (default, May 26 2023, 14:05:08) - [GCC 9.4.0], pyOpenSSL 23.2.0 (OpenSSL 3.1.1 30 May 2023), cryptography 41.0.2, Platform Linux-5.19.0-46-generic-x86_64-with-glibc2.29\n"
     ]
    }
   ],
   "source": [
    "process = CrawlerProcess()"
   ]
  },
  {
   "cell_type": "code",
   "execution_count": 5,
   "metadata": {},
   "outputs": [
    {
     "name": "stderr",
     "output_type": "stream",
     "text": [
      "2023-07-17 16:49:42 [scrapy.crawler] INFO: Overridden settings:\n",
      "{}\n",
      "2023-07-17 16:49:42 [py.warnings] WARNING: /usr/local/lib/python3.8/dist-packages/scrapy/utils/request.py:232: ScrapyDeprecationWarning: '2.6' is a deprecated value for the 'REQUEST_FINGERPRINTER_IMPLEMENTATION' setting.\n",
      "\n",
      "It is also the default value. In other words, it is normal to get this warning if you have not defined a value for the 'REQUEST_FINGERPRINTER_IMPLEMENTATION' setting. This is so for backward compatibility reasons, but it will change in a future version of Scrapy.\n",
      "\n",
      "See the documentation of the 'REQUEST_FINGERPRINTER_IMPLEMENTATION' setting for information on how to handle this deprecation.\n",
      "  return cls(crawler)\n",
      "\n",
      "2023-07-17 16:49:42 [scrapy.utils.log] DEBUG: Using reactor: twisted.internet.epollreactor.EPollReactor\n",
      "2023-07-17 16:49:42 [scrapy.extensions.telnet] INFO: Telnet Password: 9d4af74edd1697e8\n",
      "2023-07-17 16:49:42 [scrapy.middleware] INFO: Enabled extensions:\n",
      "['scrapy.extensions.corestats.CoreStats',\n",
      " 'scrapy.extensions.telnet.TelnetConsole',\n",
      " 'scrapy.extensions.memusage.MemoryUsage',\n",
      " 'scrapy.extensions.feedexport.FeedExporter',\n",
      " 'scrapy.extensions.logstats.LogStats']\n",
      "2023-07-17 16:49:42 [scrapy.middleware] INFO: Enabled downloader middlewares:\n",
      "['scrapy.downloadermiddlewares.httpauth.HttpAuthMiddleware',\n",
      " 'scrapy.downloadermiddlewares.downloadtimeout.DownloadTimeoutMiddleware',\n",
      " 'scrapy.downloadermiddlewares.defaultheaders.DefaultHeadersMiddleware',\n",
      " 'scrapy.downloadermiddlewares.useragent.UserAgentMiddleware',\n",
      " 'scrapy.downloadermiddlewares.retry.RetryMiddleware',\n",
      " 'scrapy.downloadermiddlewares.redirect.MetaRefreshMiddleware',\n",
      " 'scrapy.downloadermiddlewares.httpcompression.HttpCompressionMiddleware',\n",
      " 'scrapy.downloadermiddlewares.redirect.RedirectMiddleware',\n",
      " 'scrapy.downloadermiddlewares.cookies.CookiesMiddleware',\n",
      " 'scrapy.downloadermiddlewares.httpproxy.HttpProxyMiddleware',\n",
      " 'scrapy.downloadermiddlewares.stats.DownloaderStats']\n",
      "2023-07-17 16:49:42 [scrapy.middleware] INFO: Enabled spider middlewares:\n",
      "['scrapy.spidermiddlewares.httperror.HttpErrorMiddleware',\n",
      " 'scrapy.spidermiddlewares.offsite.OffsiteMiddleware',\n",
      " 'scrapy.spidermiddlewares.referer.RefererMiddleware',\n",
      " 'scrapy.spidermiddlewares.urllength.UrlLengthMiddleware',\n",
      " 'scrapy.spidermiddlewares.depth.DepthMiddleware']\n",
      "2023-07-17 16:49:42 [scrapy.middleware] INFO: Enabled item pipelines:\n",
      "['__main__.ExtractFirstLine']\n",
      "2023-07-17 16:49:42 [scrapy.core.engine] INFO: Spider opened\n",
      "2023-07-17 16:49:42 [scrapy.extensions.logstats] INFO: Crawled 0 pages (at 0 pages/min), scraped 0 items (at 0 items/min)\n",
      "2023-07-17 16:49:42 [scrapy.extensions.telnet] INFO: Telnet console listening on 127.0.0.1:6023\n"
     ]
    },
    {
     "data": {
      "text/plain": [
       "<Deferred at 0x7fce4c91d280>"
      ]
     },
     "execution_count": 5,
     "metadata": {},
     "output_type": "execute_result"
    }
   ],
   "source": [
    "process.crawl(QuotesToCsv)"
   ]
  },
  {
   "cell_type": "code",
   "execution_count": 6,
   "metadata": {},
   "outputs": [
    {
     "name": "stderr",
     "output_type": "stream",
     "text": [
      "2023-07-17 16:49:52 [scrapy.core.engine] DEBUG: Crawled (200) <GET https://en.wikiquote.org/wiki/Maynard_James_Keenan> (referer: None)\n",
      "2023-07-17 16:49:52 [scrapy.core.scraper] DEBUG: Scraped from <200 https://en.wikiquote.org/wiki/Maynard_James_Keenan>\n",
      "{'quote': \"Tool is not Slayer. I went to art school. I spent three years in the military. There's more to me than throwing devil horns.\"}\n",
      "2023-07-17 16:49:52 [scrapy.core.scraper] DEBUG: Scraped from <200 https://en.wikiquote.org/wiki/Maynard_James_Keenan>\n",
      "{'quote': 'I think there’s a reason why wine figures into so many religions. There’s something transcendent about it. It’s sort of the way that music is more than the sum of its parts. You have all these elements that make up the terroir that wine can communicate.'}\n",
      "2023-07-17 16:49:52 [scrapy.core.scraper] DEBUG: Scraped from <200 https://en.wikiquote.org/wiki/Maynard_James_Keenan>\n",
      "{'quote': \"You can grow grapes in almost any part of the world. You just have to develop your palate enough to realize wine is an expression of the place where you make it. You don't have to take over the world; just be an artist and express your area.\"}\n",
      "2023-07-17 16:49:52 [scrapy.core.scraper] DEBUG: Scraped from <200 https://en.wikiquote.org/wiki/Maynard_James_Keenan>\n",
      "{'quote': 'For the music, it’s not about the individual — so the more you let the music speak for yourself, the more powerful the music will be.'}\n",
      "2023-07-17 16:49:52 [scrapy.core.scraper] DEBUG: Scraped from <200 https://en.wikiquote.org/wiki/Maynard_James_Keenan>\n",
      "{'quote': 'It’s in my blood. My great-grandfather made wine and it’s a tradition I want to pass on to my son.'}\n",
      "2023-07-17 16:49:52 [scrapy.core.scraper] DEBUG: Scraped from <200 https://en.wikiquote.org/wiki/Maynard_James_Keenan>\n",
      "{'quote': \"It's the role of us to run our government, the government by the people, for the people, and I don't think our government is listening to the people. It's our role as patriots to question them, because we elected them. And if they're not fairly and accurately representing us, it's the job of the people, the patriots, to take their country back.\"}\n",
      "2023-07-17 16:49:52 [scrapy.core.scraper] DEBUG: Scraped from <200 https://en.wikiquote.org/wiki/Maynard_James_Keenan>\n",
      "{'quote': 'Every now and then, you get people who tend to forget what this country is about, which is a melting pot of races and cultures and freedom of speech.'}\n",
      "2023-07-17 16:49:52 [scrapy.core.scraper] DEBUG: Scraped from <200 https://en.wikiquote.org/wiki/Maynard_James_Keenan>\n",
      "{'quote': \"The army influences everything I do. Certainly it teaches you discipline, which is a necessary element of development. I think there's more of a collaborative understanding in the band because of that.\"}\n",
      "2023-07-17 16:49:52 [scrapy.core.scraper] DEBUG: Scraped from <200 https://en.wikiquote.org/wiki/Maynard_James_Keenan>\n",
      "{'quote': \"The process that we go through in recording with Tool is very organic, but at the same time it is very thought out. There is a very left-brain process of dissecting what we're doing and drawing from source material; it's very research oriented and esoteric.\"}\n",
      "2023-07-17 16:49:52 [scrapy.core.scraper] DEBUG: Scraped from <200 https://en.wikiquote.org/wiki/Maynard_James_Keenan>\n",
      "{'quote': \"One of my biggest heroes in music has been David Bowie. He's said, `I'm going to be a painter now, or I'm going to do some films,' and his audience is very forgiving, because they understand him as an artist. Whether you agree or like the result, you respect that he's expressing his artistic feelings.\"}\n",
      "2023-07-17 16:49:52 [scrapy.core.scraper] DEBUG: Scraped from <200 https://en.wikiquote.org/wiki/Maynard_James_Keenan>\n",
      "{'quote': \"It's a purging of sorts. Like, when you're all done doing your laundry and it's fresh and bright, but washing the clothes, you wouldn't want to get in while it's spinning around.\"}\n",
      "2023-07-17 16:49:52 [scrapy.core.scraper] DEBUG: Scraped from <200 https://en.wikiquote.org/wiki/Maynard_James_Keenan>\n",
      "{'quote': 'You really should be able to feel the higher power of music and be moved by it, rather than listening to me waffle on and having to explain it.'}\n",
      "2023-07-17 16:49:52 [scrapy.core.scraper] DEBUG: Scraped from <200 https://en.wikiquote.org/wiki/Maynard_James_Keenan>\n",
      "{'quote': 'MaynardJamesKeenan.com, currently redirecting to the Puscifer website.'}\n",
      "2023-07-17 16:49:52 [scrapy.core.scraper] DEBUG: Scraped from <200 https://en.wikiquote.org/wiki/Maynard_James_Keenan>\n",
      "{'quote': 'Wine Spectator Online, where Maynard maintained a blog about wine collecting and winemaking from 2006 to 2008.'}\n",
      "2023-07-17 16:49:52 [scrapy.core.scraper] DEBUG: Scraped from <200 https://en.wikiquote.org/wiki/Maynard_James_Keenan>\n",
      "{'quote': 'Maynard James Keenan on IMDb'}\n",
      "2023-07-17 16:49:52 [scrapy.core.engine] INFO: Closing spider (finished)\n",
      "2023-07-17 16:49:52 [scrapy.extensions.feedexport] INFO: Stored csv feed (15 items) in: wikiQuotes.csv\n",
      "2023-07-17 16:49:52 [scrapy.statscollectors] INFO: Dumping Scrapy stats:\n",
      "{'downloader/request_bytes': 241,\n",
      " 'downloader/request_count': 1,\n",
      " 'downloader/request_method_count/GET': 1,\n",
      " 'downloader/response_bytes': 12860,\n",
      " 'downloader/response_count': 1,\n",
      " 'downloader/response_status_count/200': 1,\n",
      " 'elapsed_time_seconds': 9.928993,\n",
      " 'feedexport/success_count/FileFeedStorage': 1,\n",
      " 'finish_reason': 'finished',\n",
      " 'finish_time': datetime.datetime(2023, 7, 17, 16, 49, 52, 594556),\n",
      " 'httpcompression/response_bytes': 40901,\n",
      " 'httpcompression/response_count': 1,\n",
      " 'item_scraped_count': 15,\n",
      " 'log_count/DEBUG': 17,\n",
      " 'log_count/INFO': 11,\n",
      " 'log_count/WARNING': 1,\n",
      " 'memusage/max': 202145792,\n",
      " 'memusage/startup': 202145792,\n",
      " 'response_received_count': 1,\n",
      " 'scheduler/dequeued': 1,\n",
      " 'scheduler/dequeued/memory': 1,\n",
      " 'scheduler/enqueued': 1,\n",
      " 'scheduler/enqueued/memory': 1,\n",
      " 'start_time': datetime.datetime(2023, 7, 17, 16, 49, 42, 665563)}\n",
      "2023-07-17 16:49:52 [scrapy.core.engine] INFO: Spider closed (finished)\n"
     ]
    }
   ],
   "source": [
    "process.start()"
   ]
  }
 ],
 "metadata": {
  "kernelspec": {
   "display_name": "Python 3",
   "language": "python",
   "name": "python3"
  },
  "language_info": {
   "codemirror_mode": {
    "name": "ipython",
    "version": 3
   },
   "file_extension": ".py",
   "mimetype": "text/x-python",
   "name": "python",
   "nbconvert_exporter": "python",
   "pygments_lexer": "ipython3",
   "version": "3.8.10"
  },
  "orig_nbformat": 4
 },
 "nbformat": 4,
 "nbformat_minor": 2
}
