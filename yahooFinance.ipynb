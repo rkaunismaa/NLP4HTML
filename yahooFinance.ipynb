{
 "cells": [
  {
   "cell_type": "markdown",
   "metadata": {},
   "source": [
    "Sigh ... let's give yahoo finance a go, shall we ...\n",
    "\n",
    "https://www.askpython.com/python/scrape-yahoo-finance-python-scrapy"
   ]
  },
  {
   "cell_type": "code",
   "execution_count": 1,
   "metadata": {},
   "outputs": [],
   "source": [
    "import scrapy\n",
    "from scrapy.crawler import CrawlerProcess\n",
    "import csv"
   ]
  },
  {
   "cell_type": "code",
   "execution_count": 3,
   "metadata": {},
   "outputs": [],
   "source": [
    "class yahooSpider(scrapy.Spider):\n",
    " \n",
    "    # Name of the crawler\n",
    "    name = \"yahoo\"\n",
    " \n",
    "    # The URLs we will scrape one by one\n",
    "    # start_urls = [\"https://ca.finance.yahoo.com/quote/MSFT?p=MSFT\",\n",
    "    # \"https://ca.finance.yahoo.com/quote/MSFT/key-statistics?p=MSFT\",\n",
    "    # \"https://ca.finance.yahoo.com/quote/MSFT/holders?p=MSFT\"]\n",
    "\n",
    "    start_urls = [\"https://ca.finance.yahoo.com/quote/MSFT?p=MSFT\"]\n",
    "    \n",
    " \n",
    "    # Parsing function\n",
    "    def parse(self, response):\n",
    " \n",
    "        # Using xpath to extract all the table rows\n",
    "        data = response.xpath('//div[@id=\"quote-summary\"]/div/table/tbody/tr')\n",
    "         \n",
    "        # If data is not empty\n",
    "        if data:\n",
    " \n",
    "            # Extracting all the text within HTML tags\n",
    "            values = data.css('*::text').getall()\n",
    "             \n",
    "            # CSV Filename\n",
    "            filename = 'yahooQuote.csv'\n",
    " \n",
    "            # If data to be written is not empty\n",
    "            if len(values) != 0:\n",
    " \n",
    "                # Open the CSV File\n",
    "                with open(filename, 'a+', newline='') as file:\n",
    "                     \n",
    "                    # Writing in the CSV file\n",
    "                    f = csv.writer(file)\n",
    "                    for i in range(0, len(values[:24]), 2):\n",
    "                        f.writerow([values[i], values[i+1]])\n",
    "\n",
    "        else:\n",
    "            print(\"quote-summary IS EMPTY!\")\n",
    " \n",
    "        # # Using xpath to extract all the table rows\n",
    "        # data = response.xpath('//section[@data-test=\"qsp-statistics\"]//table/tbody/tr')\n",
    "         \n",
    "        # if data:\n",
    " \n",
    "        #     # Extracting all the table names\n",
    "        #     values = data.css('span::text').getall()\n",
    " \n",
    "        #     # Extracting all the table values \n",
    "        #     values1 = data.css('td::text').getall()\n",
    " \n",
    "        #     # Cleaning the received vales\n",
    "        #     values1 = [value for value in values1 if value != ' ' and (value[0] != '(' or value[-1] != ')')]\n",
    "             \n",
    " \n",
    "        #     # Opening and writing in a CSV file\n",
    "        #     filename = 'yahooStats.csv'\n",
    "         \n",
    "        #     if len(values) != 0:\n",
    "        #         with open(filename, 'a+', newline='') as file:\n",
    "        #             f = csv.writer(file)\n",
    "        #             for i in range(9):\n",
    "        #                 f.writerow([values[i], values1[i]])\n",
    " \n",
    "        # # Using xpath to extract all the table rows\n",
    "        # data = response.xpath('//div[@data-test=\"holder-summary\"]//table')\n",
    " \n",
    " \n",
    "        # if data:\n",
    "        #     # Extracting all the table names\n",
    "        #     values = data.css('span::text').getall()\n",
    " \n",
    "        #     # Extracting all the table values \n",
    "        #     values1 = data.css('td::text').getall()\n",
    " \n",
    "        #     # Opening and writing in a CSV file\n",
    "        #     filename = 'yahooHolders.csv'\n",
    "             \n",
    "        #     if len(values) != 0:\n",
    "        #         with open(filename, 'a+', newline='') as file:\n",
    "        #             f = csv.writer(file)\n",
    "        #             for i in range(len(values)):\n",
    "        #                 f.writerow([values[i], values1[i]])"
   ]
  },
  {
   "cell_type": "code",
   "execution_count": 4,
   "metadata": {},
   "outputs": [
    {
     "name": "stderr",
     "output_type": "stream",
     "text": [
      "2023-07-13 17:34:27 [scrapy.utils.log] INFO: Scrapy 2.9.0 started (bot: scrapybot)\n",
      "2023-07-13 17:34:27 [scrapy.utils.log] INFO: Versions: lxml 4.9.2.0, libxml2 2.9.14, cssselect 1.2.0, parsel 1.8.1, w3lib 2.1.1, Twisted 22.10.0, Python 3.8.10 (default, May 26 2023, 14:05:08) - [GCC 9.4.0], pyOpenSSL 23.2.0 (OpenSSL 3.1.1 30 May 2023), cryptography 41.0.2, Platform Linux-5.19.0-46-generic-x86_64-with-glibc2.29\n"
     ]
    }
   ],
   "source": [
    "process = CrawlerProcess()"
   ]
  },
  {
   "cell_type": "code",
   "execution_count": 5,
   "metadata": {},
   "outputs": [
    {
     "name": "stderr",
     "output_type": "stream",
     "text": [
      "2023-07-13 17:34:29 [scrapy.crawler] INFO: Overridden settings:\n",
      "{}\n",
      "2023-07-13 17:34:29 [py.warnings] WARNING: /usr/local/lib/python3.8/dist-packages/scrapy/utils/request.py:232: ScrapyDeprecationWarning: '2.6' is a deprecated value for the 'REQUEST_FINGERPRINTER_IMPLEMENTATION' setting.\n",
      "\n",
      "It is also the default value. In other words, it is normal to get this warning if you have not defined a value for the 'REQUEST_FINGERPRINTER_IMPLEMENTATION' setting. This is so for backward compatibility reasons, but it will change in a future version of Scrapy.\n",
      "\n",
      "See the documentation of the 'REQUEST_FINGERPRINTER_IMPLEMENTATION' setting for information on how to handle this deprecation.\n",
      "  return cls(crawler)\n",
      "\n",
      "2023-07-13 17:34:29 [scrapy.utils.log] DEBUG: Using reactor: twisted.internet.epollreactor.EPollReactor\n",
      "2023-07-13 17:34:29 [scrapy.extensions.telnet] INFO: Telnet Password: 9ef39d2577000150\n",
      "2023-07-13 17:34:29 [scrapy.middleware] INFO: Enabled extensions:\n",
      "['scrapy.extensions.corestats.CoreStats',\n",
      " 'scrapy.extensions.telnet.TelnetConsole',\n",
      " 'scrapy.extensions.memusage.MemoryUsage',\n",
      " 'scrapy.extensions.logstats.LogStats']\n",
      "2023-07-13 17:34:29 [scrapy.middleware] INFO: Enabled downloader middlewares:\n",
      "['scrapy.downloadermiddlewares.httpauth.HttpAuthMiddleware',\n",
      " 'scrapy.downloadermiddlewares.downloadtimeout.DownloadTimeoutMiddleware',\n",
      " 'scrapy.downloadermiddlewares.defaultheaders.DefaultHeadersMiddleware',\n",
      " 'scrapy.downloadermiddlewares.useragent.UserAgentMiddleware',\n",
      " 'scrapy.downloadermiddlewares.retry.RetryMiddleware',\n",
      " 'scrapy.downloadermiddlewares.redirect.MetaRefreshMiddleware',\n",
      " 'scrapy.downloadermiddlewares.httpcompression.HttpCompressionMiddleware',\n",
      " 'scrapy.downloadermiddlewares.redirect.RedirectMiddleware',\n",
      " 'scrapy.downloadermiddlewares.cookies.CookiesMiddleware',\n",
      " 'scrapy.downloadermiddlewares.httpproxy.HttpProxyMiddleware',\n",
      " 'scrapy.downloadermiddlewares.stats.DownloaderStats']\n",
      "2023-07-13 17:34:29 [scrapy.middleware] INFO: Enabled spider middlewares:\n",
      "['scrapy.spidermiddlewares.httperror.HttpErrorMiddleware',\n",
      " 'scrapy.spidermiddlewares.offsite.OffsiteMiddleware',\n",
      " 'scrapy.spidermiddlewares.referer.RefererMiddleware',\n",
      " 'scrapy.spidermiddlewares.urllength.UrlLengthMiddleware',\n",
      " 'scrapy.spidermiddlewares.depth.DepthMiddleware']\n",
      "2023-07-13 17:34:29 [scrapy.middleware] INFO: Enabled item pipelines:\n",
      "[]\n",
      "2023-07-13 17:34:29 [scrapy.core.engine] INFO: Spider opened\n",
      "2023-07-13 17:34:29 [scrapy.extensions.logstats] INFO: Crawled 0 pages (at 0 pages/min), scraped 0 items (at 0 items/min)\n",
      "2023-07-13 17:34:29 [scrapy.extensions.telnet] INFO: Telnet console listening on 127.0.0.1:6023\n"
     ]
    },
    {
     "data": {
      "text/plain": [
       "<Deferred at 0x7ff558599be0>"
      ]
     },
     "execution_count": 5,
     "metadata": {},
     "output_type": "execute_result"
    }
   ],
   "source": [
    "process.crawl(yahooSpider)"
   ]
  },
  {
   "cell_type": "code",
   "execution_count": 6,
   "metadata": {},
   "outputs": [
    {
     "name": "stderr",
     "output_type": "stream",
     "text": [
      "2023-07-13 17:34:37 [scrapy.core.engine] DEBUG: Crawled (404) <GET https://ca.finance.yahoo.com/quote/MSFT/key-statistics?p=MSFT> (referer: None)\n",
      "2023-07-13 17:34:37 [scrapy.spidermiddlewares.httperror] INFO: Ignoring response <404 https://ca.finance.yahoo.com/quote/MSFT/key-statistics?p=MSFT>: HTTP status code is not handled or not allowed\n",
      "2023-07-13 17:34:37 [scrapy.core.engine] DEBUG: Crawled (404) <GET https://ca.finance.yahoo.com/quote/MSFT/holders?p=MSFT> (referer: None)\n",
      "2023-07-13 17:34:37 [scrapy.core.engine] DEBUG: Crawled (404) <GET https://ca.finance.yahoo.com/quote/MSFT?p=MSFT> (referer: None)\n",
      "2023-07-13 17:34:38 [scrapy.spidermiddlewares.httperror] INFO: Ignoring response <404 https://ca.finance.yahoo.com/quote/MSFT/holders?p=MSFT>: HTTP status code is not handled or not allowed\n",
      "2023-07-13 17:34:38 [scrapy.spidermiddlewares.httperror] INFO: Ignoring response <404 https://ca.finance.yahoo.com/quote/MSFT?p=MSFT>: HTTP status code is not handled or not allowed\n",
      "2023-07-13 17:34:38 [scrapy.core.engine] INFO: Closing spider (finished)\n",
      "2023-07-13 17:34:38 [scrapy.statscollectors] INFO: Dumping Scrapy stats:\n",
      "{'downloader/request_bytes': 734,\n",
      " 'downloader/request_count': 3,\n",
      " 'downloader/request_method_count/GET': 3,\n",
      " 'downloader/response_bytes': 9102,\n",
      " 'downloader/response_count': 3,\n",
      " 'downloader/response_status_count/404': 3,\n",
      " 'elapsed_time_seconds': 8.395336,\n",
      " 'finish_reason': 'finished',\n",
      " 'finish_time': datetime.datetime(2023, 7, 13, 17, 34, 38, 40380),\n",
      " 'httpcompression/response_bytes': 6201,\n",
      " 'httpcompression/response_count': 3,\n",
      " 'httperror/response_ignored_count': 3,\n",
      " 'httperror/response_ignored_status_count/404': 3,\n",
      " 'log_count/DEBUG': 4,\n",
      " 'log_count/INFO': 13,\n",
      " 'log_count/WARNING': 1,\n",
      " 'memusage/max': 137064448,\n",
      " 'memusage/startup': 137064448,\n",
      " 'response_received_count': 3,\n",
      " 'scheduler/dequeued': 3,\n",
      " 'scheduler/dequeued/memory': 3,\n",
      " 'scheduler/enqueued': 3,\n",
      " 'scheduler/enqueued/memory': 3,\n",
      " 'start_time': datetime.datetime(2023, 7, 13, 17, 34, 29, 645044)}\n",
      "2023-07-13 17:34:38 [scrapy.core.engine] INFO: Spider closed (finished)\n"
     ]
    }
   ],
   "source": [
    "process.start()"
   ]
  },
  {
   "cell_type": "markdown",
   "metadata": {},
   "source": []
  }
 ],
 "metadata": {
  "kernelspec": {
   "display_name": "Python 3",
   "language": "python",
   "name": "python3"
  },
  "language_info": {
   "codemirror_mode": {
    "name": "ipython",
    "version": 3
   },
   "file_extension": ".py",
   "mimetype": "text/x-python",
   "name": "python",
   "nbconvert_exporter": "python",
   "pygments_lexer": "ipython3",
   "version": "3.8.10"
  },
  "orig_nbformat": 4
 },
 "nbformat": 4,
 "nbformat_minor": 2
}
