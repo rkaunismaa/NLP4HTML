{
 "cells": [
  {
   "cell_type": "markdown",
   "metadata": {},
   "source": [
    "#### Saturday, November 25, 2023\n",
    "\n",
    "Switched to the selenium environment.\n",
    "\n",
    "conda activate selenium\n",
    "\n",
    "#### Friday, November 24, 2023\n",
    "\n",
    "conda activate nlp4html\n",
    "\n",
    "This will be where I try out new ideas regarding the local Match data."
   ]
  },
  {
   "cell_type": "code",
   "execution_count": 1,
   "metadata": {},
   "outputs": [],
   "source": [
    "import mysql.connector"
   ]
  },
  {
   "cell_type": "code",
   "execution_count": 2,
   "metadata": {},
   "outputs": [],
   "source": [
    "# Replace these with your actual database credentials\n",
    "db_host = \"127.0.0.1\"\n",
    "db_user = \"root\"\n",
    "db_password = \"12345\"\n",
    "\n",
    "db_name = \"MatchDb\"\n",
    "table_name = \"Users\""
   ]
  },
  {
   "cell_type": "code",
   "execution_count": 3,
   "metadata": {},
   "outputs": [],
   "source": [
    "# Establish a connection\n",
    "matchDb = mysql.connector.connect(\n",
    "    host=db_host,\n",
    "    user=db_user,\n",
    "    password=db_password,\n",
    "    database=db_name\n",
    ")"
   ]
  },
  {
   "cell_type": "markdown",
   "metadata": {},
   "source": [
    "Define a MatchUser object:"
   ]
  },
  {
   "cell_type": "code",
   "execution_count": 4,
   "metadata": {},
   "outputs": [],
   "source": [
    "class MatchUser:\n",
    "\n",
    "    __delim = \" • \"\n",
    "\n",
    "    def __init__(self, id=0, MatchUserId=\"\", Url=\"\", ProfileAvailable=False, FirstName=\"\", AgeLocation=\"\", Subscriber=\"\", LastOnline=\"\", MiniEssayTitle=\"\", MiniEssayContent=\"\", Summary=\"\", ScanDateTime=\"\", Rating=0):\n",
    "\n",
    "       # self.Clear()\n",
    "\n",
    "        self.id = id # if id is zero, then this user is not in the MatchDb\n",
    "        self.MatchUserId = MatchUserId\n",
    "        self.Url = Url\n",
    "        self.ProfileAvailable = ProfileAvailable \n",
    "        self.FirstName = FirstName\n",
    "        self.AgeLocation = AgeLocation\n",
    "        self.Subscriber = Subscriber\n",
    "        self.LastOnline = LastOnline\n",
    "        self.MiniEssayTitle = MiniEssayTitle\n",
    "        self.MiniEssayContent = MiniEssayContent\n",
    "        self.Summary = Summary\n",
    "        self.ScanDateTime = ScanDateTime\n",
    "        self.Rating = Rating\n",
    "\n",
    "    def Clear(self):\n",
    "\n",
    "        self.id = 0\n",
    "        self.MatchUserId = \"\"\n",
    "        self.Url = \"\"\n",
    "        self.ProfileAvailable=False\n",
    "        self.FirstName = \"\"\n",
    "        self.AgeLocation = \"\"\n",
    "        self.Subscriber = \"\"\n",
    "        self.LastOnline = \"\"\n",
    "        self.MiniEssayTitle = \"\"\n",
    "        self.MiniEssayContent = \"\"\n",
    "        self.Summary = \"\"\n",
    "        self.ScanDateTime = \"\"\n",
    "        self.Rating = 0\n",
    "\n",
    "\n",
    "    # self.AgeLocation is of the format \"49 • Peterborough, ON\"\n",
    "    @property\n",
    "    def Age(self):\n",
    "\n",
    "        age = 0\n",
    "        # 60 • Etobicoke, ON\n",
    "        if self.__delim in self.AgeLocation:\n",
    "            alSplit = self.AgeLocation.split(self.__delim)\n",
    "            age = int(alSplit[0])\n",
    "        return age\n",
    "\n",
    "    @property\n",
    "    def Location(self):\n",
    "\n",
    "        location = \"\"\n",
    "        if self.__delim in self.AgeLocation:\n",
    "            alSplit = self.AgeLocation.split(self.__delim)\n",
    "            location = alSplit[1]\n",
    "        return location\n",
    "    \n",
    "    @property\n",
    "    def TownCity(self):\n",
    "\n",
    "        townCity = \"\"\n",
    "        location = self.Location\n",
    "        delim = \", \"\n",
    "        if delim in location:\n",
    "            locSplit = location.split(delim)\n",
    "            townCity = locSplit[0]\n",
    "        return townCity\n",
    "\n",
    "    @property\n",
    "    def Province(self):\n",
    "\n",
    "        province = \"\"\n",
    "        location = self.Location\n",
    "        delim = \", \"\n",
    "        if delim in location:\n",
    "            locSplit = location.split(delim)\n",
    "            province = locSplit[0]\n",
    "        return province\n"
   ]
  },
  {
   "cell_type": "markdown",
   "metadata": {},
   "source": [
    "Grab all current users from the database."
   ]
  },
  {
   "cell_type": "code",
   "execution_count": 5,
   "metadata": {},
   "outputs": [],
   "source": [
    "# Grab all \n",
    "with matchDb.cursor() as cursor:\n",
    "    selectQuery = f\"SELECT * FROM MatchDb.Users\"\n",
    "    cursor.execute(selectQuery)\n",
    "    allUsers = cursor.fetchall()\n"
   ]
  },
  {
   "cell_type": "code",
   "execution_count": 6,
   "metadata": {},
   "outputs": [
    {
     "data": {
      "text/plain": [
       "2617"
      ]
     },
     "execution_count": 6,
     "metadata": {},
     "output_type": "execute_result"
    }
   ],
   "source": [
    "userCount = len(allUsers)\n",
    "userCount"
   ]
  },
  {
   "cell_type": "code",
   "execution_count": 7,
   "metadata": {},
   "outputs": [
    {
     "name": "stdout",
     "output_type": "stream",
     "text": [
      "(1, 'wxzetG5wchZXxt7qDn6HPQ2', 'https://www.match.com/profile/wxzetG5wchZXxt7qDn6HPQ2', 'Phi', '59 • North York, ON', 1, 'Active 1 hour ago', 'The way to my heart is through', 'your 💗', 'Hi, to start all my pictures are current.\\n\\nI would describe my personal style as very feminine🌸. \\nFriends would describe me \\nas easy to talk to, having a calm voice/disposition, warm, and down to earth. \\n\\nI love meditation, yoga, comedies, people with a good sense of humour and I love all animals esp dogs cats horses..\\n\\nMy beautiful mother was Latvian and my father was from Morocco.  I had a pretty traditional European upbringing.\\n\\nI love baking esp because it makes my home smell good and consider myself a creative cook.  I’m always up for a drive in the countryside or to a beach… one of my favourite things to do because I love taking in the clouds, the sky, water and any wildlife that decides to cross my path.\\n\\nRight now I’m focusing on my art and after years of sculpting …have branched into illustration. Working on a number of projects.  I also have a love of science and history.\\n\\nIn my career I’ve been a private secretary and have also been a librarian. I love books. My favourite book of all time is To kill a Mockingbird but up there in importance is Sherlock Holmes, Harry Potter, Shakespeare, and I love to collect cookbooks…esp French and Italian.\\n\\nI trained in ballet when I was younger.  With dance comes the love of music. And I pretty much listen to everything.   For some of my downtime I love to be in a gym, at a fitness class or outdoors just walking…. Love skating and rollerblading and swimming too. And I play golf.', datetime.datetime(2023, 8, 25, 8, 13), '5')\n",
      "(2, 'G_ZEss4kJ5nU8knZcXD2_Q2', 'https://www.match.com/profile/G_ZEss4kJ5nU8knZcXD2_Q2', 'Maggie', '60 • Etobicoke, ON', 1, 'Active 1 hour ago', 'To me, the hallmark of a good relationship is', 'a shared sense of humour ,honesty,mutual respect ,empathy and passion!', 'Proud mom of two incredible young adults . I am a hopeless romantic  with a mischievous sense of humour . I am yearning for the ‘someone’ who becomes the reason of my smile .. the “one you always miss whenever you smile randomly with any other person “.', datetime.datetime(2023, 8, 25, 8, 13), '2')\n",
      "(3, 'B_todX64oteMTTkqBGeGvA2', 'https://www.match.com/profile/B_todX64oteMTTkqBGeGvA2', 'Tracey', '60 • Etobicoke, ON', 1, 'Active 14 hours ago', 'Right now I am reading', 'The Lincoln Highway (Amor Towles), A New Earth (Eckhart Tolle)', \"Hi there!  People tell me I’m kind, intelligent, fun, easy to be with, open-minded. I really enjoy life – a glass is half-full type of person. I take a balanced and holistic approach – mind, body and spirit. I love to learn and to try new things.\\n\\nWalking in nature is one of my favourite things. I'm active and fit -- enjoy yoga, hiking, tennis, dancing, reading, good conversation, spending time with family and friends. I'm now semi-retired -- working part-time and doing some volunteer work -- after having had a fulfilling business career.\\n\\nI’ve been fortunate to travel some and look forward to much more! Have my eye on Hawaii, Newfoundland and Scotland in the near future. I recently walked 200 km of the Camino de Santiago in Spain.\\n\\nI treasure close family relationships and friendships. My three adult children are now out on their own and I’m very close to them.\\n\\nI’d love to meet a man who I have lots in common with…where there is a basis for an easy friendship yet also a spark and physical chemistry.  I value integrity, intelligence, male energy and a sense of fun with a positive outlook on life. \\n\\nIf you think we’d have a connection and lots in common, please drop me a line. Best wishes for your search!\", datetime.datetime(2023, 8, 25, 8, 13), '3')\n",
      "(4, 'BixA6EJdyB5oTowCS7-3Gg2', 'https://www.match.com/profile/BixA6EJdyB5oTowCS7-3Gg2', 'Nicole', '49 • Peterborough, ON', 1, 'Active 10 hours ago', 'I’m weirdly attracted to', 'A good cologne is my weakness', 'I have been single for 4 years after a long term relationship/marriage.  I have a great life, amazing kids, friends and family.  But I’m also at the point in my life were I’d like someone to share it with someone again.  I don’t need someone, but want someone and I think that’s important.  Looking to date basically and see what happens. \\n\\nI know from my single male friends that some ladies have a long list of expectations, not really my style as I’m pretty easy going lol.  I tend to go for the blue collared Dad-bod type.  The Dad part isn’t a deal breaker, but I do find shared life experiences are a plus.  And a guy who is a good Dad is seriously attractive to me frankly.  For me it’s more about how someone treats me and makes me feel above anything else.\\n\\nAs for me I’m all about enjoying life at this stage in my life, doing new things, new experiences and laughing my ass off. \\n\\nLadies my age seem to attract the mid 30 guys looking for the whole cougar/cub/MILF situation.  Though I’m sure you’re adorable, that’s not my scene and you definitely don’t want to date me 😜.\\n\\nSo if you want to have a drink, have a few laughs, send me a message.', datetime.datetime(2023, 8, 25, 8, 13), '1')\n",
      "(5, 'u0mf2joc8h8btYWxh937qg2', 'https://www.match.com/profile/u0mf2joc8h8btYWxh937qg2', 'Line', '60 • Guelph, ON', 1, 'Active 1 hour ago', 'After a bad day, you can find me', 'exercising in the backyard or gym or living room. anywhere where there’s room to move. I incorporate dancing in there too so music is always playing.', 'I have never gone online before to look for what I hope to find, my soulmate. So let’s see who is out there. I am not looking for a fling or one night stand. I’m looking for a serious LTR is what I’m looking for. \\nI grew up in northern Ontario and in Montréal.  I got a job with the coroner’s office. Yes, I tagged and bagged. I did apparent identification markers and fingerprinting too. This was way before those CSI shows came out on tv. \\nI have worn many hats but I can tell you all about that if we end up meeting. \\nI have a wonderful 26 y.o. son who lives on his own. I am happily separated and divorced. If the person I meet has children, I am perfectly comfortable with this. Family is of utmost importance. I have 1 sister and 2 brothers.  The age difference is only 3 years, 9 months, less 1 day.  So yes, we are close. \\nI don’t have many friends but the ones I have are very close to to my heart. Two of them have been my friends for 52 years.  Each!\\nWe should both value family, honesty, transparency, communication, kindness, laughter, loyalty, cuddling, romance, passion and so much more. \\nNo games, no players, please.', datetime.datetime(2023, 8, 25, 8, 13), '1')\n"
     ]
    }
   ],
   "source": [
    "for user in allUsers[:5]:\n",
    "    print(user)"
   ]
  },
  {
   "cell_type": "code",
   "execution_count": 8,
   "metadata": {},
   "outputs": [],
   "source": [
    "matchUsers = []\n",
    "for user in allUsers:\n",
    "\n",
    "    matchUser = MatchUser(id=user[0],\n",
    "                          MatchUserId=user[1],\n",
    "                          Url=user[2],\n",
    "                          ProfileAvailable=True,\n",
    "                          FirstName=user[3],\n",
    "                          AgeLocation=user[4],\n",
    "                          Subscriber=user[5],\n",
    "                          LastOnline=user[6],\n",
    "                          MiniEssayTitle=user[7],\n",
    "                          MiniEssayContent=user[8],\n",
    "                          Summary=user[9],\n",
    "                          ScanDateTime=user[10],\n",
    "                          Rating=user[11]\n",
    "                        )\n",
    "    matchUsers.append(matchUser)"
   ]
  },
  {
   "cell_type": "code",
   "execution_count": 1,
   "metadata": {},
   "outputs": [],
   "source": [
    "from selenium import webdriver\n",
    "\n",
    "from selenium.webdriver.chrome.options import Options as ChromeOptions\n",
    "from selenium.webdriver.chrome.service import Service as ChromeService\n",
    "\n"
   ]
  },
  {
   "cell_type": "code",
   "execution_count": 2,
   "metadata": {},
   "outputs": [],
   "source": [
    "chromedriver_path = '/usr/local/bin/chromedriver'\n",
    "chromeService = ChromeService(executable_path=chromedriver_path)"
   ]
  },
  {
   "cell_type": "code",
   "execution_count": 2,
   "metadata": {},
   "outputs": [],
   "source": [
    "chromeOptions = ChromeOptions()\n",
    "\n",
    "chromeOptions.binary_location = \"/usr/bin/brave-browser\"\n",
    "chromeOptions.add_argument(\"--start-maximized\")\n",
    "chromeOptions.add_argument(\"--disable-extensions\")\n",
    "chromeOptions.add_argument(\"--disable-gpu \")\n",
    "chromeOptions.add_argument(\"--no-sandbox\")\n",
    "chromeOptions.add_argument('--remote-debugging-port=9224') "
   ]
  },
  {
   "cell_type": "code",
   "execution_count": 3,
   "metadata": {},
   "outputs": [],
   "source": [
    "userData = \"--user-data-dir=/home/rob/.config/BraveSoftware/Brave-Browser\"\n",
    "chromeOptions.add_argument(userData)"
   ]
  },
  {
   "cell_type": "code",
   "execution_count": 13,
   "metadata": {},
   "outputs": [
    {
     "ename": "WebDriverException",
     "evalue": "Message: chrome not reachable\nStacktrace:\n#0 0x55e7d5f7fcb3 <unknown>\n#1 0x55e7d5c437a7 <unknown>\n#2 0x55e7d5c2ddda <unknown>\n#3 0x55e7d5c7f4ad <unknown>\n#4 0x55e7d5c7aa8f <unknown>\n#5 0x55e7d5c77411 <unknown>\n#6 0x55e7d5cc1bef <unknown>\n#7 0x55e7d5cb8453 <unknown>\n#8 0x55e7d5c83894 <unknown>\n#9 0x55e7d5c8485e <unknown>\n#10 0x55e7d5f464e1 <unknown>\n#11 0x55e7d5f4a37e <unknown>\n#12 0x55e7d5f34635 <unknown>\n#13 0x55e7d5f4afd6 <unknown>\n#14 0x55e7d5f17f1f <unknown>\n#15 0x55e7d5f6e1c8 <unknown>\n#16 0x55e7d5f6e392 <unknown>\n#17 0x55e7d5f7ee43 <unknown>\n#18 0x7fb881294ac3 <unknown>\n",
     "output_type": "error",
     "traceback": [
      "\u001b[0;31m---------------------------------------------------------------------------\u001b[0m",
      "\u001b[0;31mWebDriverException\u001b[0m                        Traceback (most recent call last)",
      "\u001b[1;32m/home/rob/Data/Documents/Github/rkaunismaa/NLP4HTML/TestSelenium/MatchPlayGround.ipynb Cell 16\u001b[0m line \u001b[0;36m1\n\u001b[0;32m----> <a href='vscode-notebook-cell:/home/rob/Data/Documents/Github/rkaunismaa/NLP4HTML/TestSelenium/MatchPlayGround.ipynb#X41sZmlsZQ%3D%3D?line=0'>1</a>\u001b[0m driver \u001b[39m=\u001b[39m webdriver\u001b[39m.\u001b[39;49mChrome(options \u001b[39m=\u001b[39;49m chromeOptions,  service\u001b[39m=\u001b[39;49mchromeService)\n",
      "File \u001b[0;32m~/anaconda3/envs/selenium/lib/python3.12/site-packages/selenium/webdriver/chrome/webdriver.py:45\u001b[0m, in \u001b[0;36mWebDriver.__init__\u001b[0;34m(self, options, service, keep_alive)\u001b[0m\n\u001b[1;32m     42\u001b[0m service \u001b[39m=\u001b[39m service \u001b[39mif\u001b[39;00m service \u001b[39melse\u001b[39;00m Service()\n\u001b[1;32m     43\u001b[0m options \u001b[39m=\u001b[39m options \u001b[39mif\u001b[39;00m options \u001b[39melse\u001b[39;00m Options()\n\u001b[0;32m---> 45\u001b[0m \u001b[39msuper\u001b[39;49m()\u001b[39m.\u001b[39;49m\u001b[39m__init__\u001b[39;49m(\n\u001b[1;32m     46\u001b[0m     DesiredCapabilities\u001b[39m.\u001b[39;49mCHROME[\u001b[39m\"\u001b[39;49m\u001b[39mbrowserName\u001b[39;49m\u001b[39m\"\u001b[39;49m],\n\u001b[1;32m     47\u001b[0m     \u001b[39m\"\u001b[39;49m\u001b[39mgoog\u001b[39;49m\u001b[39m\"\u001b[39;49m,\n\u001b[1;32m     48\u001b[0m     options,\n\u001b[1;32m     49\u001b[0m     service,\n\u001b[1;32m     50\u001b[0m     keep_alive,\n\u001b[1;32m     51\u001b[0m )\n",
      "File \u001b[0;32m~/anaconda3/envs/selenium/lib/python3.12/site-packages/selenium/webdriver/chromium/webdriver.py:56\u001b[0m, in \u001b[0;36mChromiumDriver.__init__\u001b[0;34m(self, browser_name, vendor_prefix, options, service, keep_alive)\u001b[0m\n\u001b[1;32m     53\u001b[0m \u001b[39mself\u001b[39m\u001b[39m.\u001b[39mservice\u001b[39m.\u001b[39mstart()\n\u001b[1;32m     55\u001b[0m \u001b[39mtry\u001b[39;00m:\n\u001b[0;32m---> 56\u001b[0m     \u001b[39msuper\u001b[39;49m()\u001b[39m.\u001b[39;49m\u001b[39m__init__\u001b[39;49m(\n\u001b[1;32m     57\u001b[0m         command_executor\u001b[39m=\u001b[39;49mChromiumRemoteConnection(\n\u001b[1;32m     58\u001b[0m             remote_server_addr\u001b[39m=\u001b[39;49m\u001b[39mself\u001b[39;49m\u001b[39m.\u001b[39;49mservice\u001b[39m.\u001b[39;49mservice_url,\n\u001b[1;32m     59\u001b[0m             browser_name\u001b[39m=\u001b[39;49mbrowser_name,\n\u001b[1;32m     60\u001b[0m             vendor_prefix\u001b[39m=\u001b[39;49mvendor_prefix,\n\u001b[1;32m     61\u001b[0m             keep_alive\u001b[39m=\u001b[39;49mkeep_alive,\n\u001b[1;32m     62\u001b[0m             ignore_proxy\u001b[39m=\u001b[39;49moptions\u001b[39m.\u001b[39;49m_ignore_local_proxy,\n\u001b[1;32m     63\u001b[0m         ),\n\u001b[1;32m     64\u001b[0m         options\u001b[39m=\u001b[39;49moptions,\n\u001b[1;32m     65\u001b[0m     )\n\u001b[1;32m     66\u001b[0m \u001b[39mexcept\u001b[39;00m \u001b[39mException\u001b[39;00m:\n\u001b[1;32m     67\u001b[0m     \u001b[39mself\u001b[39m\u001b[39m.\u001b[39mquit()\n",
      "File \u001b[0;32m~/anaconda3/envs/selenium/lib/python3.12/site-packages/selenium/webdriver/remote/webdriver.py:208\u001b[0m, in \u001b[0;36mWebDriver.__init__\u001b[0;34m(self, command_executor, keep_alive, file_detector, options)\u001b[0m\n\u001b[1;32m    206\u001b[0m \u001b[39mself\u001b[39m\u001b[39m.\u001b[39m_authenticator_id \u001b[39m=\u001b[39m \u001b[39mNone\u001b[39;00m\n\u001b[1;32m    207\u001b[0m \u001b[39mself\u001b[39m\u001b[39m.\u001b[39mstart_client()\n\u001b[0;32m--> 208\u001b[0m \u001b[39mself\u001b[39;49m\u001b[39m.\u001b[39;49mstart_session(capabilities)\n",
      "File \u001b[0;32m~/anaconda3/envs/selenium/lib/python3.12/site-packages/selenium/webdriver/remote/webdriver.py:292\u001b[0m, in \u001b[0;36mWebDriver.start_session\u001b[0;34m(self, capabilities)\u001b[0m\n\u001b[1;32m    285\u001b[0m \u001b[39m\u001b[39m\u001b[39m\"\"\"Creates a new session with the desired capabilities.\u001b[39;00m\n\u001b[1;32m    286\u001b[0m \n\u001b[1;32m    287\u001b[0m \u001b[39m:Args:\u001b[39;00m\n\u001b[1;32m    288\u001b[0m \u001b[39m - capabilities - a capabilities dict to start the session with.\u001b[39;00m\n\u001b[1;32m    289\u001b[0m \u001b[39m\"\"\"\u001b[39;00m\n\u001b[1;32m    291\u001b[0m caps \u001b[39m=\u001b[39m _create_caps(capabilities)\n\u001b[0;32m--> 292\u001b[0m response \u001b[39m=\u001b[39m \u001b[39mself\u001b[39;49m\u001b[39m.\u001b[39;49mexecute(Command\u001b[39m.\u001b[39;49mNEW_SESSION, caps)[\u001b[39m\"\u001b[39m\u001b[39mvalue\u001b[39m\u001b[39m\"\u001b[39m]\n\u001b[1;32m    293\u001b[0m \u001b[39mself\u001b[39m\u001b[39m.\u001b[39msession_id \u001b[39m=\u001b[39m response\u001b[39m.\u001b[39mget(\u001b[39m\"\u001b[39m\u001b[39msessionId\u001b[39m\u001b[39m\"\u001b[39m)\n\u001b[1;32m    294\u001b[0m \u001b[39mself\u001b[39m\u001b[39m.\u001b[39mcaps \u001b[39m=\u001b[39m response\u001b[39m.\u001b[39mget(\u001b[39m\"\u001b[39m\u001b[39mcapabilities\u001b[39m\u001b[39m\"\u001b[39m)\n",
      "File \u001b[0;32m~/anaconda3/envs/selenium/lib/python3.12/site-packages/selenium/webdriver/remote/webdriver.py:347\u001b[0m, in \u001b[0;36mWebDriver.execute\u001b[0;34m(self, driver_command, params)\u001b[0m\n\u001b[1;32m    345\u001b[0m response \u001b[39m=\u001b[39m \u001b[39mself\u001b[39m\u001b[39m.\u001b[39mcommand_executor\u001b[39m.\u001b[39mexecute(driver_command, params)\n\u001b[1;32m    346\u001b[0m \u001b[39mif\u001b[39;00m response:\n\u001b[0;32m--> 347\u001b[0m     \u001b[39mself\u001b[39;49m\u001b[39m.\u001b[39;49merror_handler\u001b[39m.\u001b[39;49mcheck_response(response)\n\u001b[1;32m    348\u001b[0m     response[\u001b[39m\"\u001b[39m\u001b[39mvalue\u001b[39m\u001b[39m\"\u001b[39m] \u001b[39m=\u001b[39m \u001b[39mself\u001b[39m\u001b[39m.\u001b[39m_unwrap_value(response\u001b[39m.\u001b[39mget(\u001b[39m\"\u001b[39m\u001b[39mvalue\u001b[39m\u001b[39m\"\u001b[39m, \u001b[39mNone\u001b[39;00m))\n\u001b[1;32m    349\u001b[0m     \u001b[39mreturn\u001b[39;00m response\n",
      "File \u001b[0;32m~/anaconda3/envs/selenium/lib/python3.12/site-packages/selenium/webdriver/remote/errorhandler.py:229\u001b[0m, in \u001b[0;36mErrorHandler.check_response\u001b[0;34m(self, response)\u001b[0m\n\u001b[1;32m    227\u001b[0m         alert_text \u001b[39m=\u001b[39m value[\u001b[39m\"\u001b[39m\u001b[39malert\u001b[39m\u001b[39m\"\u001b[39m]\u001b[39m.\u001b[39mget(\u001b[39m\"\u001b[39m\u001b[39mtext\u001b[39m\u001b[39m\"\u001b[39m)\n\u001b[1;32m    228\u001b[0m     \u001b[39mraise\u001b[39;00m exception_class(message, screen, stacktrace, alert_text)  \u001b[39m# type: ignore[call-arg]  # mypy is not smart enough here\u001b[39;00m\n\u001b[0;32m--> 229\u001b[0m \u001b[39mraise\u001b[39;00m exception_class(message, screen, stacktrace)\n",
      "\u001b[0;31mWebDriverException\u001b[0m: Message: chrome not reachable\nStacktrace:\n#0 0x55e7d5f7fcb3 <unknown>\n#1 0x55e7d5c437a7 <unknown>\n#2 0x55e7d5c2ddda <unknown>\n#3 0x55e7d5c7f4ad <unknown>\n#4 0x55e7d5c7aa8f <unknown>\n#5 0x55e7d5c77411 <unknown>\n#6 0x55e7d5cc1bef <unknown>\n#7 0x55e7d5cb8453 <unknown>\n#8 0x55e7d5c83894 <unknown>\n#9 0x55e7d5c8485e <unknown>\n#10 0x55e7d5f464e1 <unknown>\n#11 0x55e7d5f4a37e <unknown>\n#12 0x55e7d5f34635 <unknown>\n#13 0x55e7d5f4afd6 <unknown>\n#14 0x55e7d5f17f1f <unknown>\n#15 0x55e7d5f6e1c8 <unknown>\n#16 0x55e7d5f6e392 <unknown>\n#17 0x55e7d5f7ee43 <unknown>\n#18 0x7fb881294ac3 <unknown>\n"
     ]
    }
   ],
   "source": [
    "driver = webdriver.Chrome(options = chromeOptions,  service=chromeService)"
   ]
  },
  {
   "cell_type": "code",
   "execution_count": 4,
   "metadata": {},
   "outputs": [
    {
     "ename": "SessionNotCreatedException",
     "evalue": "Message: session not created: Chrome failed to start: exited normally.\n  (chrome not reachable)\n  (The process started from chrome location /usr/bin/brave-browser is no longer running, so ChromeDriver is assuming that Chrome has crashed.)\nStacktrace:\n#0 0x559714dfdcb3 <unknown>\n#1 0x559714ac1957 <unknown>\n#2 0x559714af86eb <unknown>\n#3 0x559714af5411 <unknown>\n#4 0x559714b3fbef <unknown>\n#5 0x559714b36453 <unknown>\n#6 0x559714b01894 <unknown>\n#7 0x559714b0285e <unknown>\n#8 0x559714dc44e1 <unknown>\n#9 0x559714dc837e <unknown>\n#10 0x559714db2635 <unknown>\n#11 0x559714dc8fd6 <unknown>\n#12 0x559714d95f1f <unknown>\n#13 0x559714dec1c8 <unknown>\n#14 0x559714dec392 <unknown>\n#15 0x559714dfce43 <unknown>\n#16 0x7eff58494ac3 <unknown>\n",
     "output_type": "error",
     "traceback": [
      "\u001b[0;31m---------------------------------------------------------------------------\u001b[0m",
      "\u001b[0;31mSessionNotCreatedException\u001b[0m                Traceback (most recent call last)",
      "\u001b[1;32m/home/rob/Data/Documents/Github/rkaunismaa/NLP4HTML/TestSelenium/MatchPlayGround.ipynb Cell 17\u001b[0m line \u001b[0;36m1\n\u001b[0;32m----> <a href='vscode-notebook-cell:/home/rob/Data/Documents/Github/rkaunismaa/NLP4HTML/TestSelenium/MatchPlayGround.ipynb#X36sZmlsZQ%3D%3D?line=0'>1</a>\u001b[0m browser \u001b[39m=\u001b[39m webdriver\u001b[39m.\u001b[39;49mChrome(options\u001b[39m=\u001b[39;49mchromeOptions)\n",
      "File \u001b[0;32m~/anaconda3/envs/selenium/lib/python3.12/site-packages/selenium/webdriver/chrome/webdriver.py:45\u001b[0m, in \u001b[0;36mWebDriver.__init__\u001b[0;34m(self, options, service, keep_alive)\u001b[0m\n\u001b[1;32m     42\u001b[0m service \u001b[39m=\u001b[39m service \u001b[39mif\u001b[39;00m service \u001b[39melse\u001b[39;00m Service()\n\u001b[1;32m     43\u001b[0m options \u001b[39m=\u001b[39m options \u001b[39mif\u001b[39;00m options \u001b[39melse\u001b[39;00m Options()\n\u001b[0;32m---> 45\u001b[0m \u001b[39msuper\u001b[39;49m()\u001b[39m.\u001b[39;49m\u001b[39m__init__\u001b[39;49m(\n\u001b[1;32m     46\u001b[0m     DesiredCapabilities\u001b[39m.\u001b[39;49mCHROME[\u001b[39m\"\u001b[39;49m\u001b[39mbrowserName\u001b[39;49m\u001b[39m\"\u001b[39;49m],\n\u001b[1;32m     47\u001b[0m     \u001b[39m\"\u001b[39;49m\u001b[39mgoog\u001b[39;49m\u001b[39m\"\u001b[39;49m,\n\u001b[1;32m     48\u001b[0m     options,\n\u001b[1;32m     49\u001b[0m     service,\n\u001b[1;32m     50\u001b[0m     keep_alive,\n\u001b[1;32m     51\u001b[0m )\n",
      "File \u001b[0;32m~/anaconda3/envs/selenium/lib/python3.12/site-packages/selenium/webdriver/chromium/webdriver.py:56\u001b[0m, in \u001b[0;36mChromiumDriver.__init__\u001b[0;34m(self, browser_name, vendor_prefix, options, service, keep_alive)\u001b[0m\n\u001b[1;32m     53\u001b[0m \u001b[39mself\u001b[39m\u001b[39m.\u001b[39mservice\u001b[39m.\u001b[39mstart()\n\u001b[1;32m     55\u001b[0m \u001b[39mtry\u001b[39;00m:\n\u001b[0;32m---> 56\u001b[0m     \u001b[39msuper\u001b[39;49m()\u001b[39m.\u001b[39;49m\u001b[39m__init__\u001b[39;49m(\n\u001b[1;32m     57\u001b[0m         command_executor\u001b[39m=\u001b[39;49mChromiumRemoteConnection(\n\u001b[1;32m     58\u001b[0m             remote_server_addr\u001b[39m=\u001b[39;49m\u001b[39mself\u001b[39;49m\u001b[39m.\u001b[39;49mservice\u001b[39m.\u001b[39;49mservice_url,\n\u001b[1;32m     59\u001b[0m             browser_name\u001b[39m=\u001b[39;49mbrowser_name,\n\u001b[1;32m     60\u001b[0m             vendor_prefix\u001b[39m=\u001b[39;49mvendor_prefix,\n\u001b[1;32m     61\u001b[0m             keep_alive\u001b[39m=\u001b[39;49mkeep_alive,\n\u001b[1;32m     62\u001b[0m             ignore_proxy\u001b[39m=\u001b[39;49moptions\u001b[39m.\u001b[39;49m_ignore_local_proxy,\n\u001b[1;32m     63\u001b[0m         ),\n\u001b[1;32m     64\u001b[0m         options\u001b[39m=\u001b[39;49moptions,\n\u001b[1;32m     65\u001b[0m     )\n\u001b[1;32m     66\u001b[0m \u001b[39mexcept\u001b[39;00m \u001b[39mException\u001b[39;00m:\n\u001b[1;32m     67\u001b[0m     \u001b[39mself\u001b[39m\u001b[39m.\u001b[39mquit()\n",
      "File \u001b[0;32m~/anaconda3/envs/selenium/lib/python3.12/site-packages/selenium/webdriver/remote/webdriver.py:208\u001b[0m, in \u001b[0;36mWebDriver.__init__\u001b[0;34m(self, command_executor, keep_alive, file_detector, options)\u001b[0m\n\u001b[1;32m    206\u001b[0m \u001b[39mself\u001b[39m\u001b[39m.\u001b[39m_authenticator_id \u001b[39m=\u001b[39m \u001b[39mNone\u001b[39;00m\n\u001b[1;32m    207\u001b[0m \u001b[39mself\u001b[39m\u001b[39m.\u001b[39mstart_client()\n\u001b[0;32m--> 208\u001b[0m \u001b[39mself\u001b[39;49m\u001b[39m.\u001b[39;49mstart_session(capabilities)\n",
      "File \u001b[0;32m~/anaconda3/envs/selenium/lib/python3.12/site-packages/selenium/webdriver/remote/webdriver.py:292\u001b[0m, in \u001b[0;36mWebDriver.start_session\u001b[0;34m(self, capabilities)\u001b[0m\n\u001b[1;32m    285\u001b[0m \u001b[39m\u001b[39m\u001b[39m\"\"\"Creates a new session with the desired capabilities.\u001b[39;00m\n\u001b[1;32m    286\u001b[0m \n\u001b[1;32m    287\u001b[0m \u001b[39m:Args:\u001b[39;00m\n\u001b[1;32m    288\u001b[0m \u001b[39m - capabilities - a capabilities dict to start the session with.\u001b[39;00m\n\u001b[1;32m    289\u001b[0m \u001b[39m\"\"\"\u001b[39;00m\n\u001b[1;32m    291\u001b[0m caps \u001b[39m=\u001b[39m _create_caps(capabilities)\n\u001b[0;32m--> 292\u001b[0m response \u001b[39m=\u001b[39m \u001b[39mself\u001b[39;49m\u001b[39m.\u001b[39;49mexecute(Command\u001b[39m.\u001b[39;49mNEW_SESSION, caps)[\u001b[39m\"\u001b[39m\u001b[39mvalue\u001b[39m\u001b[39m\"\u001b[39m]\n\u001b[1;32m    293\u001b[0m \u001b[39mself\u001b[39m\u001b[39m.\u001b[39msession_id \u001b[39m=\u001b[39m response\u001b[39m.\u001b[39mget(\u001b[39m\"\u001b[39m\u001b[39msessionId\u001b[39m\u001b[39m\"\u001b[39m)\n\u001b[1;32m    294\u001b[0m \u001b[39mself\u001b[39m\u001b[39m.\u001b[39mcaps \u001b[39m=\u001b[39m response\u001b[39m.\u001b[39mget(\u001b[39m\"\u001b[39m\u001b[39mcapabilities\u001b[39m\u001b[39m\"\u001b[39m)\n",
      "File \u001b[0;32m~/anaconda3/envs/selenium/lib/python3.12/site-packages/selenium/webdriver/remote/webdriver.py:347\u001b[0m, in \u001b[0;36mWebDriver.execute\u001b[0;34m(self, driver_command, params)\u001b[0m\n\u001b[1;32m    345\u001b[0m response \u001b[39m=\u001b[39m \u001b[39mself\u001b[39m\u001b[39m.\u001b[39mcommand_executor\u001b[39m.\u001b[39mexecute(driver_command, params)\n\u001b[1;32m    346\u001b[0m \u001b[39mif\u001b[39;00m response:\n\u001b[0;32m--> 347\u001b[0m     \u001b[39mself\u001b[39;49m\u001b[39m.\u001b[39;49merror_handler\u001b[39m.\u001b[39;49mcheck_response(response)\n\u001b[1;32m    348\u001b[0m     response[\u001b[39m\"\u001b[39m\u001b[39mvalue\u001b[39m\u001b[39m\"\u001b[39m] \u001b[39m=\u001b[39m \u001b[39mself\u001b[39m\u001b[39m.\u001b[39m_unwrap_value(response\u001b[39m.\u001b[39mget(\u001b[39m\"\u001b[39m\u001b[39mvalue\u001b[39m\u001b[39m\"\u001b[39m, \u001b[39mNone\u001b[39;00m))\n\u001b[1;32m    349\u001b[0m     \u001b[39mreturn\u001b[39;00m response\n",
      "File \u001b[0;32m~/anaconda3/envs/selenium/lib/python3.12/site-packages/selenium/webdriver/remote/errorhandler.py:229\u001b[0m, in \u001b[0;36mErrorHandler.check_response\u001b[0;34m(self, response)\u001b[0m\n\u001b[1;32m    227\u001b[0m         alert_text \u001b[39m=\u001b[39m value[\u001b[39m\"\u001b[39m\u001b[39malert\u001b[39m\u001b[39m\"\u001b[39m]\u001b[39m.\u001b[39mget(\u001b[39m\"\u001b[39m\u001b[39mtext\u001b[39m\u001b[39m\"\u001b[39m)\n\u001b[1;32m    228\u001b[0m     \u001b[39mraise\u001b[39;00m exception_class(message, screen, stacktrace, alert_text)  \u001b[39m# type: ignore[call-arg]  # mypy is not smart enough here\u001b[39;00m\n\u001b[0;32m--> 229\u001b[0m \u001b[39mraise\u001b[39;00m exception_class(message, screen, stacktrace)\n",
      "\u001b[0;31mSessionNotCreatedException\u001b[0m: Message: session not created: Chrome failed to start: exited normally.\n  (chrome not reachable)\n  (The process started from chrome location /usr/bin/brave-browser is no longer running, so ChromeDriver is assuming that Chrome has crashed.)\nStacktrace:\n#0 0x559714dfdcb3 <unknown>\n#1 0x559714ac1957 <unknown>\n#2 0x559714af86eb <unknown>\n#3 0x559714af5411 <unknown>\n#4 0x559714b3fbef <unknown>\n#5 0x559714b36453 <unknown>\n#6 0x559714b01894 <unknown>\n#7 0x559714b0285e <unknown>\n#8 0x559714dc44e1 <unknown>\n#9 0x559714dc837e <unknown>\n#10 0x559714db2635 <unknown>\n#11 0x559714dc8fd6 <unknown>\n#12 0x559714d95f1f <unknown>\n#13 0x559714dec1c8 <unknown>\n#14 0x559714dec392 <unknown>\n#15 0x559714dfce43 <unknown>\n#16 0x7eff58494ac3 <unknown>\n"
     ]
    }
   ],
   "source": [
    "browser = webdriver.Chrome(options=chromeOptions)"
   ]
  },
  {
   "cell_type": "code",
   "execution_count": null,
   "metadata": {},
   "outputs": [],
   "source": [
    "options = ChromeOptions()\n",
    "\n",
    "options.add_argument(\"start-maximized\")\n",
    "options.binary_location = \"/usr/bin/brave-browser\"\n",
    "\n",
    "browser = webdriver.Chrome(options=options)"
   ]
  },
  {
   "cell_type": "code",
   "execution_count": null,
   "metadata": {},
   "outputs": [],
   "source": [
    "chromedriver_path = '/usr/local/bin/chromedriver'\n",
    "# chromeService = ChromeService(executable_path=chromedriver_path, port=9224)\n",
    "chromeService = ChromeService(executable_path=chromedriver_path)"
   ]
  },
  {
   "cell_type": "code",
   "execution_count": null,
   "metadata": {},
   "outputs": [],
   "source": [
    "chromeOptions = ChromeOptions()"
   ]
  },
  {
   "cell_type": "code",
   "execution_count": null,
   "metadata": {},
   "outputs": [],
   "source": [
    "# chromeOptions.headless = True\n",
    "chromeOptions.binary_location = '/usr/bin/brave-browser'\n",
    "chromeOptions.add_argument('--remote-debugging-port=9224') "
   ]
  },
  {
   "cell_type": "code",
   "execution_count": null,
   "metadata": {},
   "outputs": [],
   "source": [
    "userData = \"--user-data-dir=/home/rob/.config/BraveSoftware/\"\n",
    "chromeOptions.add_argument(userData)"
   ]
  },
  {
   "cell_type": "code",
   "execution_count": null,
   "metadata": {},
   "outputs": [],
   "source": [
    "driver = webdriver.Chrome(options = chromeOptions,  service=chromeService)"
   ]
  },
  {
   "cell_type": "code",
   "execution_count": null,
   "metadata": {},
   "outputs": [],
   "source": [
    "from MatchFunctions import createNewDriver"
   ]
  },
  {
   "cell_type": "code",
   "execution_count": null,
   "metadata": {},
   "outputs": [],
   "source": [
    "driver = createNewDriver()"
   ]
  },
  {
   "cell_type": "code",
   "execution_count": null,
   "metadata": {},
   "outputs": [],
   "source": [
    "pageScan = []\n",
    "for matchUser in matchUsers[:5]:\n",
    "\n",
    "        driver.get(matchUser.Url)\n",
    "\n"
   ]
  },
  {
   "cell_type": "code",
   "execution_count": null,
   "metadata": {},
   "outputs": [],
   "source": [
    "matchDb.commit()"
   ]
  },
  {
   "cell_type": "code",
   "execution_count": null,
   "metadata": {},
   "outputs": [],
   "source": [
    "\n",
    "matchDb.close()"
   ]
  }
 ],
 "metadata": {
  "kernelspec": {
   "display_name": "Python 3 (ipykernel)",
   "language": "python",
   "name": "python3"
  },
  "language_info": {
   "codemirror_mode": {
    "name": "ipython",
    "version": 3
   },
   "file_extension": ".py",
   "mimetype": "text/x-python",
   "name": "python",
   "nbconvert_exporter": "python",
   "pygments_lexer": "ipython3",
   "version": "3.9.18"
  }
 },
 "nbformat": 4,
 "nbformat_minor": 4
}
