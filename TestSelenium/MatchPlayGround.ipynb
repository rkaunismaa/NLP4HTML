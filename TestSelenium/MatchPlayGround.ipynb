{
 "cells": [
  {
   "cell_type": "markdown",
   "metadata": {},
   "source": [
    "#### Friday, November 24, 2023\n",
    "\n",
    "conda activate nlp4html\n",
    "\n",
    "This will be where I try out new ideas regarding the local Match data."
   ]
  },
  {
   "cell_type": "code",
   "execution_count": 1,
   "metadata": {},
   "outputs": [],
   "source": [
    "import mysql.connector"
   ]
  },
  {
   "cell_type": "code",
   "execution_count": 2,
   "metadata": {},
   "outputs": [],
   "source": [
    "# Replace these with your actual database credentials\n",
    "db_host = \"127.0.0.1\"\n",
    "db_user = \"root\"\n",
    "db_password = \"12345\"\n",
    "\n",
    "db_name = \"MatchDb\"\n",
    "table_name = \"Users\""
   ]
  },
  {
   "cell_type": "code",
   "execution_count": 3,
   "metadata": {},
   "outputs": [],
   "source": [
    "# Establish a connection\n",
    "matchDb = mysql.connector.connect(\n",
    "    host=db_host,\n",
    "    user=db_user,\n",
    "    password=db_password,\n",
    "    database=db_name\n",
    ")"
   ]
  },
  {
   "cell_type": "markdown",
   "metadata": {},
   "source": [
    "Define a MatchUser object:"
   ]
  },
  {
   "cell_type": "code",
   "execution_count": 21,
   "metadata": {},
   "outputs": [],
   "source": [
    "class MatchUser:\n",
    "\n",
    "    __delim = \" • \"\n",
    "\n",
    "    def __init__(self, id=0, MatchUserId=\"\", Url=\"\", ProfileAvailable=False, FirstName=\"\", AgeLocation=\"\", Subscriber=\"\", LastOnline=\"\", MiniEssayTitle=\"\", MiniEssayContent=\"\", Summary=\"\", ScanDateTime=\"\", Rating=0):\n",
    "\n",
    "       # self.Clear()\n",
    "\n",
    "        self.id = id # if id is zero, then this user is not in the MatchDb\n",
    "        self.MatchUserId = MatchUserId\n",
    "        self.Url = Url\n",
    "        self.ProfileAvailable = ProfileAvailable \n",
    "        self.FirstName = FirstName\n",
    "        self.AgeLocation = AgeLocation\n",
    "        self.Subscriber = Subscriber\n",
    "        self.LastOnline = LastOnline\n",
    "        self.MiniEssayTitle = MiniEssayTitle\n",
    "        self.MiniEssayContent = MiniEssayContent\n",
    "        self.Summary = Summary\n",
    "        self.ScanDateTime = ScanDateTime\n",
    "        self.Rating = Rating\n",
    "\n",
    "    def Clear(self):\n",
    "\n",
    "        self.id = 0\n",
    "        self.MatchUserId = \"\"\n",
    "        self.Url = \"\"\n",
    "        self.ProfileAvailable=False\n",
    "        self.FirstName = \"\"\n",
    "        self.AgeLocation = \"\"\n",
    "        self.Subscriber = \"\"\n",
    "        self.LastOnline = \"\"\n",
    "        self.MiniEssayTitle = \"\"\n",
    "        self.MiniEssayContent = \"\"\n",
    "        self.Summary = \"\"\n",
    "        self.ScanDateTime = \"\"\n",
    "        self.Rating = 0\n",
    "\n",
    "\n",
    "    # self.AgeLocation is of the format \"49 • Peterborough, ON\"\n",
    "    @property\n",
    "    def Age(self):\n",
    "\n",
    "        age = 0\n",
    "        # 60 • Etobicoke, ON\n",
    "        if self.__delim in self.AgeLocation:\n",
    "            alSplit = self.ageLocation.split(self.__delim)\n",
    "            age = int(alSplit[0])\n",
    "        return age\n",
    "\n",
    "    @property\n",
    "    def Location(self):\n",
    "\n",
    "        location = \"\"\n",
    "        if self.__delim in self.AgeLocation:\n",
    "            alSplit = self.ageLocation.split(self.__delim)\n",
    "            location = alSplit[1]\n",
    "        return location\n",
    "    \n",
    "    @property\n",
    "    def TownCity(self):\n",
    "\n",
    "        townCity = \"\"\n",
    "        location = self.Location\n",
    "        delim = \", \"\n",
    "        if delim in location:\n",
    "            locSplit = location.split(delim)\n",
    "            townCity = locSplit[0]\n",
    "        return townCity\n",
    "\n",
    "    @property\n",
    "    def Province(self):\n",
    "\n",
    "        province = \"\"\n",
    "        location = self.Location\n",
    "        delim = \", \"\n",
    "        if delim in location:\n",
    "            locSplit = location.split(delim)\n",
    "            province = locSplit[0]\n",
    "        return province\n"
   ]
  },
  {
   "cell_type": "markdown",
   "metadata": {},
   "source": [
    "Grab all current users from the database."
   ]
  },
  {
   "cell_type": "code",
   "execution_count": 18,
   "metadata": {},
   "outputs": [],
   "source": [
    "# Grab all \n",
    "with matchDb.cursor() as cursor:\n",
    "    selectQuery = f\"SELECT idUsers, MatchUserId, Url, ScanDateTime, Rating FROM MatchDb.Users\"\n",
    "    cursor.execute(selectQuery)\n",
    "    allUsers = cursor.fetchall()\n"
   ]
  },
  {
   "cell_type": "code",
   "execution_count": 19,
   "metadata": {},
   "outputs": [
    {
     "data": {
      "text/plain": [
       "2617"
      ]
     },
     "execution_count": 19,
     "metadata": {},
     "output_type": "execute_result"
    }
   ],
   "source": [
    "userCount = len(allUsers)\n",
    "userCount"
   ]
  },
  {
   "cell_type": "code",
   "execution_count": 17,
   "metadata": {},
   "outputs": [
    {
     "name": "stdout",
     "output_type": "stream",
     "text": [
      "(1, 'wxzetG5wchZXxt7qDn6HPQ2', 'https://www.match.com/profile/wxzetG5wchZXxt7qDn6HPQ2', datetime.datetime(2023, 8, 25, 8, 13), '5')\n",
      "(2, 'G_ZEss4kJ5nU8knZcXD2_Q2', 'https://www.match.com/profile/G_ZEss4kJ5nU8knZcXD2_Q2', datetime.datetime(2023, 8, 25, 8, 13), '2')\n",
      "(3, 'B_todX64oteMTTkqBGeGvA2', 'https://www.match.com/profile/B_todX64oteMTTkqBGeGvA2', datetime.datetime(2023, 8, 25, 8, 13), '3')\n",
      "(6, 'JAOQT8QzYlJrKRGjcP--EA2', 'https://www.match.com/profile/JAOQT8QzYlJrKRGjcP--EA2', datetime.datetime(2023, 8, 25, 8, 13), '2')\n",
      "(7, 'fZkm9hgPd35KDg8VgNhTTA2', 'https://www.match.com/profile/fZkm9hgPd35KDg8VgNhTTA2', datetime.datetime(2023, 8, 25, 8, 13), '5')\n",
      "(8, '5OfKOjO4YB74xjCRPi5p6Q2', 'https://www.match.com/profile/5OfKOjO4YB74xjCRPi5p6Q2', datetime.datetime(2023, 8, 25, 8, 13), '2')\n",
      "(10, 'BeFQ0RrKrciMrBe00yNjYA2', 'https://www.match.com/profile/BeFQ0RrKrciMrBe00yNjYA2', datetime.datetime(2023, 8, 25, 8, 13), '3')\n",
      "(11, 'OUCmYwoWN-uL7_lrtIWgvw2', 'https://www.match.com/profile/OUCmYwoWN-uL7_lrtIWgvw2', datetime.datetime(2023, 8, 25, 8, 13), '3')\n",
      "(12, '4jLBJmHY1S4bbcQhx1Df1Q2', 'https://www.match.com/profile/4jLBJmHY1S4bbcQhx1Df1Q2', datetime.datetime(2023, 8, 25, 8, 13), '2')\n",
      "(13, 'aRI8DoAHe-SVibcy-pa5tw2', 'https://www.match.com/profile/aRI8DoAHe-SVibcy-pa5tw2', datetime.datetime(2023, 8, 25, 8, 13), '2')\n",
      "(14, 'VLVZ1LoQ1jctw4sm0SMo8w2', 'https://www.match.com/profile/VLVZ1LoQ1jctw4sm0SMo8w2', datetime.datetime(2023, 8, 25, 8, 13), '2')\n",
      "(15, 'YV3mizleVS9eZnvL5grhHQ2', 'https://www.match.com/profile/YV3mizleVS9eZnvL5grhHQ2', datetime.datetime(2023, 8, 25, 8, 13), '2')\n",
      "(16, '6_K2FiX56lQQEKgUV-jMPQ2', 'https://www.match.com/profile/6_K2FiX56lQQEKgUV-jMPQ2', datetime.datetime(2023, 8, 25, 8, 13), '2')\n",
      "(17, 'q2AUACxGDlQTadueerpEkQ2', 'https://www.match.com/profile/q2AUACxGDlQTadueerpEkQ2', datetime.datetime(2023, 8, 25, 8, 13), '4')\n",
      "(18, 'SBgJ80r6LZQPUiLxmK9Qjg2', 'https://www.match.com/profile/SBgJ80r6LZQPUiLxmK9Qjg2', datetime.datetime(2023, 8, 25, 8, 13), '2')\n",
      "(19, 'dwfdSUgh6ogzDz8RsRjQyg2', 'https://www.match.com/profile/dwfdSUgh6ogzDz8RsRjQyg2', datetime.datetime(2023, 8, 25, 8, 13), '3')\n",
      "(20, 'LvlPcbzTW-8H6kg1ShZB1g2', 'https://www.match.com/profile/LvlPcbzTW-8H6kg1ShZB1g2', datetime.datetime(2023, 8, 25, 8, 13), '2')\n",
      "(22, 'jI4wWCvK52t3WPhp-8BJ3Q2', 'https://www.match.com/profile/jI4wWCvK52t3WPhp-8BJ3Q2', datetime.datetime(2023, 8, 25, 8, 13), '3')\n",
      "(23, 'KzdpemZ82cdI09gPjnnWXQ2', 'https://www.match.com/profile/KzdpemZ82cdI09gPjnnWXQ2', datetime.datetime(2023, 8, 25, 8, 13), '3')\n",
      "(24, 'rcaUV0IrYssDK5PMhJpvsA2', 'https://www.match.com/profile/rcaUV0IrYssDK5PMhJpvsA2', datetime.datetime(2023, 8, 25, 8, 13), '3')\n"
     ]
    }
   ],
   "source": [
    "for user in allUsers[:20]:\n",
    "\n",
    "    dbId = user[0]\n",
    "    matchId = user[1]\n",
    "    matchUrl = user[2]\n",
    "    scanDateTime = user[3]\n",
    "    userRating = user[4]\n",
    "\n",
    "    print(user)"
   ]
  },
  {
   "cell_type": "code",
   "execution_count": null,
   "metadata": {},
   "outputs": [],
   "source": [
    "matchDb.commit()"
   ]
  },
  {
   "cell_type": "code",
   "execution_count": 20,
   "metadata": {},
   "outputs": [],
   "source": [
    "\n",
    "matchDb.close()"
   ]
  }
 ],
 "metadata": {
  "kernelspec": {
   "display_name": "nlp4html",
   "language": "python",
   "name": "python3"
  },
  "language_info": {
   "codemirror_mode": {
    "name": "ipython",
    "version": 3
   },
   "file_extension": ".py",
   "mimetype": "text/x-python",
   "name": "python",
   "nbconvert_exporter": "python",
   "pygments_lexer": "ipython3",
   "version": "3.11.4"
  }
 },
 "nbformat": 4,
 "nbformat_minor": 2
}
