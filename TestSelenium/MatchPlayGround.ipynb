{
 "cells": [
  {
   "cell_type": "markdown",
   "metadata": {},
   "source": [
    "#### Friday, November 24, 2023\n",
    "\n",
    "conda activate nlp4html\n",
    "\n",
    "This will be where I try out new ideas regarding the local Match data."
   ]
  },
  {
   "cell_type": "code",
   "execution_count": 1,
   "metadata": {},
   "outputs": [],
   "source": [
    "import mysql.connector"
   ]
  },
  {
   "cell_type": "code",
   "execution_count": 2,
   "metadata": {},
   "outputs": [],
   "source": [
    "# Replace these with your actual database credentials\n",
    "db_host = \"127.0.0.1\"\n",
    "db_user = \"root\"\n",
    "db_password = \"12345\"\n",
    "\n",
    "db_name = \"MatchDb\"\n",
    "table_name = \"Users\""
   ]
  },
  {
   "cell_type": "code",
   "execution_count": 3,
   "metadata": {},
   "outputs": [],
   "source": [
    "# Establish a connection\n",
    "matchDb = mysql.connector.connect(\n",
    "    host=db_host,\n",
    "    user=db_user,\n",
    "    password=db_password,\n",
    "    database=db_name\n",
    ")"
   ]
  },
  {
   "cell_type": "markdown",
   "metadata": {},
   "source": [
    "Define a MatchUser object:"
   ]
  },
  {
   "cell_type": "code",
   "execution_count": 4,
   "metadata": {},
   "outputs": [],
   "source": [
    "class MatchUser:\n",
    "\n",
    "    __delim = \" • \"\n",
    "\n",
    "    def __init__(self, id=0, MatchUserId=\"\", Url=\"\", ProfileAvailable=False, FirstName=\"\", AgeLocation=\"\", Subscriber=\"\", LastOnline=\"\", MiniEssayTitle=\"\", MiniEssayContent=\"\", Summary=\"\", ScanDateTime=\"\", Rating=0):\n",
    "\n",
    "       # self.Clear()\n",
    "\n",
    "        self.id = id # if id is zero, then this user is not in the MatchDb\n",
    "        self.MatchUserId = MatchUserId\n",
    "        self.Url = Url\n",
    "        self.ProfileAvailable = ProfileAvailable \n",
    "        self.FirstName = FirstName\n",
    "        self.AgeLocation = AgeLocation\n",
    "        self.Subscriber = Subscriber\n",
    "        self.LastOnline = LastOnline\n",
    "        self.MiniEssayTitle = MiniEssayTitle\n",
    "        self.MiniEssayContent = MiniEssayContent\n",
    "        self.Summary = Summary\n",
    "        self.ScanDateTime = ScanDateTime\n",
    "        self.Rating = Rating\n",
    "\n",
    "    def Clear(self):\n",
    "\n",
    "        self.id = 0\n",
    "        self.MatchUserId = \"\"\n",
    "        self.Url = \"\"\n",
    "        self.ProfileAvailable=False\n",
    "        self.FirstName = \"\"\n",
    "        self.AgeLocation = \"\"\n",
    "        self.Subscriber = \"\"\n",
    "        self.LastOnline = \"\"\n",
    "        self.MiniEssayTitle = \"\"\n",
    "        self.MiniEssayContent = \"\"\n",
    "        self.Summary = \"\"\n",
    "        self.ScanDateTime = \"\"\n",
    "        self.Rating = 0\n",
    "\n",
    "\n",
    "    # self.AgeLocation is of the format \"49 • Peterborough, ON\"\n",
    "    @property\n",
    "    def Age(self):\n",
    "\n",
    "        age = 0\n",
    "        # 60 • Etobicoke, ON\n",
    "        if self.__delim in self.AgeLocation:\n",
    "            alSplit = self.AgeLocation.split(self.__delim)\n",
    "            age = int(alSplit[0])\n",
    "        return age\n",
    "\n",
    "    @property\n",
    "    def Location(self):\n",
    "\n",
    "        location = \"\"\n",
    "        if self.__delim in self.AgeLocation:\n",
    "            alSplit = self.AgeLocation.split(self.__delim)\n",
    "            location = alSplit[1]\n",
    "        return location\n",
    "    \n",
    "    @property\n",
    "    def TownCity(self):\n",
    "\n",
    "        townCity = \"\"\n",
    "        location = self.Location\n",
    "        delim = \", \"\n",
    "        if delim in location:\n",
    "            locSplit = location.split(delim)\n",
    "            townCity = locSplit[0]\n",
    "        return townCity\n",
    "\n",
    "    @property\n",
    "    def Province(self):\n",
    "\n",
    "        province = \"\"\n",
    "        location = self.Location\n",
    "        delim = \", \"\n",
    "        if delim in location:\n",
    "            locSplit = location.split(delim)\n",
    "            province = locSplit[0]\n",
    "        return province\n"
   ]
  },
  {
   "cell_type": "markdown",
   "metadata": {},
   "source": [
    "Grab all current users from the database."
   ]
  },
  {
   "cell_type": "code",
   "execution_count": 5,
   "metadata": {},
   "outputs": [],
   "source": [
    "# Grab all \n",
    "with matchDb.cursor() as cursor:\n",
    "    selectQuery = f\"SELECT * FROM MatchDb.Users\"\n",
    "    cursor.execute(selectQuery)\n",
    "    allUsers = cursor.fetchall()\n"
   ]
  },
  {
   "cell_type": "code",
   "execution_count": 6,
   "metadata": {},
   "outputs": [
    {
     "data": {
      "text/plain": [
       "2617"
      ]
     },
     "execution_count": 6,
     "metadata": {},
     "output_type": "execute_result"
    }
   ],
   "source": [
    "userCount = len(allUsers)\n",
    "userCount"
   ]
  },
  {
   "cell_type": "code",
   "execution_count": 7,
   "metadata": {},
   "outputs": [],
   "source": [
    "matchUsers = []\n",
    "for user in allUsers:\n",
    "\n",
    "    matchUser = MatchUser(id=user[0],\n",
    "                          MatchUserId=user[1],\n",
    "                          Url=user[2],\n",
    "                          ProfileAvailable=True,\n",
    "                          FirstName=user[3],\n",
    "                          AgeLocation=user[4],\n",
    "                          Subscriber=user[5],\n",
    "                          LastOnline=user[6],\n",
    "                          MiniEssayTitle=user[7],\n",
    "                          MiniEssayContent=user[8],\n",
    "                          Summary=user[9],\n",
    "                          ScanDateTime=user[10],\n",
    "                          Rating=user[11]\n",
    "                        )\n",
    "    matchUsers.append(matchUser)"
   ]
  },
  {
   "cell_type": "code",
   "execution_count": 11,
   "metadata": {},
   "outputs": [
    {
     "data": {
      "text/plain": [
       "'Toronto'"
      ]
     },
     "execution_count": 11,
     "metadata": {},
     "output_type": "execute_result"
    }
   ],
   "source": []
  },
  {
   "cell_type": "code",
   "execution_count": null,
   "metadata": {},
   "outputs": [],
   "source": [
    "matchDb.commit()"
   ]
  },
  {
   "cell_type": "code",
   "execution_count": 20,
   "metadata": {},
   "outputs": [],
   "source": [
    "\n",
    "matchDb.close()"
   ]
  }
 ],
 "metadata": {
  "kernelspec": {
   "display_name": "nlp4html",
   "language": "python",
   "name": "python3"
  },
  "language_info": {
   "codemirror_mode": {
    "name": "ipython",
    "version": 3
   },
   "file_extension": ".py",
   "mimetype": "text/x-python",
   "name": "python",
   "nbconvert_exporter": "python",
   "pygments_lexer": "ipython3",
   "version": "3.11.4"
  }
 },
 "nbformat": 4,
 "nbformat_minor": 2
}
