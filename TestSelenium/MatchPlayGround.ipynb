{
 "cells": [
  {
   "cell_type": "markdown",
   "metadata": {},
   "source": [
    "#### Friday, November 24, 2023\n",
    "\n",
    "conda activate nlp4html\n",
    "\n",
    "This will be where I try out new ideas regarding the local Match data."
   ]
  },
  {
   "cell_type": "code",
   "execution_count": 1,
   "metadata": {},
   "outputs": [],
   "source": [
    "import mysql.connector"
   ]
  },
  {
   "cell_type": "code",
   "execution_count": 2,
   "metadata": {},
   "outputs": [],
   "source": [
    "# Replace these with your actual database credentials\n",
    "db_host = \"127.0.0.1\"\n",
    "db_user = \"root\"\n",
    "db_password = \"12345\"\n",
    "\n",
    "db_name = \"MatchDb\"\n",
    "table_name = \"Users\""
   ]
  },
  {
   "cell_type": "code",
   "execution_count": 3,
   "metadata": {},
   "outputs": [],
   "source": [
    "# Establish a connection\n",
    "matchDb = mysql.connector.connect(\n",
    "    host=db_host,\n",
    "    user=db_user,\n",
    "    password=db_password,\n",
    "    database=db_name\n",
    ")"
   ]
  },
  {
   "cell_type": "markdown",
   "metadata": {},
   "source": [
    "Grab all current users from the database."
   ]
  },
  {
   "cell_type": "code",
   "execution_count": 17,
   "metadata": {},
   "outputs": [],
   "source": [
    "# Grab all \n",
    "with matchDb.cursor() as cursor:\n",
    "    selectQuery = f\"SELECT idUsers, MatchUserId, Url, ScanDateTime, Rating FROM MatchDb.Users\"\n",
    "    cursor.execute(selectQuery)\n",
    "    allUsers = cursor.fetchall()\n"
   ]
  },
  {
   "cell_type": "code",
   "execution_count": 18,
   "metadata": {},
   "outputs": [
    {
     "data": {
      "text/plain": [
       "2617"
      ]
     },
     "execution_count": 18,
     "metadata": {},
     "output_type": "execute_result"
    }
   ],
   "source": [
    "userCount = len(allUsers)\n",
    "userCount"
   ]
  },
  {
   "cell_type": "code",
   "execution_count": 19,
   "metadata": {},
   "outputs": [
    {
     "name": "stdout",
     "output_type": "stream",
     "text": [
      "(1, 'wxzetG5wchZXxt7qDn6HPQ2', 'https://www.match.com/profile/wxzetG5wchZXxt7qDn6HPQ2', datetime.datetime(2023, 8, 25, 8, 13), '5')\n",
      "(2, 'G_ZEss4kJ5nU8knZcXD2_Q2', 'https://www.match.com/profile/G_ZEss4kJ5nU8knZcXD2_Q2', datetime.datetime(2023, 8, 25, 8, 13), '2')\n",
      "(3, 'B_todX64oteMTTkqBGeGvA2', 'https://www.match.com/profile/B_todX64oteMTTkqBGeGvA2', datetime.datetime(2023, 8, 25, 8, 13), '3')\n",
      "(4, 'BixA6EJdyB5oTowCS7-3Gg2', 'https://www.match.com/profile/BixA6EJdyB5oTowCS7-3Gg2', datetime.datetime(2023, 8, 25, 8, 13), '1')\n",
      "(5, 'u0mf2joc8h8btYWxh937qg2', 'https://www.match.com/profile/u0mf2joc8h8btYWxh937qg2', datetime.datetime(2023, 8, 25, 8, 13), '1')\n",
      "(6, 'JAOQT8QzYlJrKRGjcP--EA2', 'https://www.match.com/profile/JAOQT8QzYlJrKRGjcP--EA2', datetime.datetime(2023, 8, 25, 8, 13), '2')\n",
      "(7, 'fZkm9hgPd35KDg8VgNhTTA2', 'https://www.match.com/profile/fZkm9hgPd35KDg8VgNhTTA2', datetime.datetime(2023, 8, 25, 8, 13), '5')\n",
      "(8, '5OfKOjO4YB74xjCRPi5p6Q2', 'https://www.match.com/profile/5OfKOjO4YB74xjCRPi5p6Q2', datetime.datetime(2023, 8, 25, 8, 13), '2')\n",
      "(9, 'uMOkdtTat0LpRBw7X6OOgg2', 'https://www.match.com/profile/uMOkdtTat0LpRBw7X6OOgg2', datetime.datetime(2023, 8, 25, 8, 13), '1')\n",
      "(10, 'BeFQ0RrKrciMrBe00yNjYA2', 'https://www.match.com/profile/BeFQ0RrKrciMrBe00yNjYA2', datetime.datetime(2023, 8, 25, 8, 13), '3')\n"
     ]
    }
   ],
   "source": [
    "for user in allUsers[:10]:\n",
    "\n",
    "    dbId = user[0]\n",
    "    matchId = user[1]\n",
    "    matchUrl = user[2]\n",
    "    scanDateTime = user[3]\n",
    "    userRating = user[4]\n",
    "\n",
    "    print(user)"
   ]
  },
  {
   "cell_type": "code",
   "execution_count": null,
   "metadata": {},
   "outputs": [],
   "source": [
    "matchDb.commit()"
   ]
  },
  {
   "cell_type": "code",
   "execution_count": 20,
   "metadata": {},
   "outputs": [],
   "source": [
    "\n",
    "matchDb.close()"
   ]
  }
 ],
 "metadata": {
  "kernelspec": {
   "display_name": "nlp4html",
   "language": "python",
   "name": "python3"
  },
  "language_info": {
   "codemirror_mode": {
    "name": "ipython",
    "version": 3
   },
   "file_extension": ".py",
   "mimetype": "text/x-python",
   "name": "python",
   "nbconvert_exporter": "python",
   "pygments_lexer": "ipython3",
   "version": "3.11.4"
  }
 },
 "nbformat": 4,
 "nbformat_minor": 2
}
