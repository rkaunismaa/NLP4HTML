{
 "cells": [
  {
   "cell_type": "markdown",
   "metadata": {},
   "source": [
    "#### Saturday, November 25, 2023\n",
    "\n",
    "Switched to the selenium environment.\n",
    "\n",
    "conda activate selenium\n",
    "\n",
    "#### Friday, November 24, 2023\n",
    "\n",
    "conda activate nlp4html\n",
    "\n",
    "This will be where I try out new ideas regarding the local Match data."
   ]
  },
  {
   "cell_type": "code",
   "execution_count": 1,
   "metadata": {},
   "outputs": [],
   "source": [
    "import mysql.connector"
   ]
  },
  {
   "cell_type": "code",
   "execution_count": 2,
   "metadata": {},
   "outputs": [],
   "source": [
    "# Replace these with your actual database credentials\n",
    "db_host = \"127.0.0.1\"\n",
    "db_user = \"root\"\n",
    "db_password = \"12345\"\n",
    "\n",
    "db_name = \"MatchDb\"\n",
    "table_name = \"Users\""
   ]
  },
  {
   "cell_type": "code",
   "execution_count": 3,
   "metadata": {},
   "outputs": [],
   "source": [
    "# Establish a connection\n",
    "matchDb = mysql.connector.connect(\n",
    "    host=db_host,\n",
    "    user=db_user,\n",
    "    password=db_password,\n",
    "    database=db_name\n",
    ")"
   ]
  },
  {
   "cell_type": "markdown",
   "metadata": {},
   "source": [
    "Define a MatchUser object:"
   ]
  },
  {
   "cell_type": "code",
   "execution_count": 4,
   "metadata": {},
   "outputs": [],
   "source": [
    "class MatchUser:\n",
    "\n",
    "    __delim = \" • \"\n",
    "\n",
    "    def __init__(self, id=0, MatchUserId=\"\", Url=\"\", ProfileAvailable=False, FirstName=\"\", AgeLocation=\"\", Subscriber=\"\", LastOnline=\"\", MiniEssayTitle=\"\", MiniEssayContent=\"\", Summary=\"\", ScanDateTime=\"\", Rating=0):\n",
    "\n",
    "       # self.Clear()\n",
    "\n",
    "        self.id = id # if id is zero, then this user is not in the MatchDb\n",
    "        self.MatchUserId = MatchUserId\n",
    "        self.Url = Url\n",
    "        self.ProfileAvailable = ProfileAvailable \n",
    "        self.FirstName = FirstName\n",
    "        self.AgeLocation = AgeLocation\n",
    "        self.Subscriber = Subscriber\n",
    "        self.LastOnline = LastOnline\n",
    "        self.MiniEssayTitle = MiniEssayTitle\n",
    "        self.MiniEssayContent = MiniEssayContent\n",
    "        self.Summary = Summary\n",
    "        self.ScanDateTime = ScanDateTime\n",
    "        self.Rating = Rating\n",
    "\n",
    "    def Clear(self):\n",
    "\n",
    "        self.id = 0\n",
    "        self.MatchUserId = \"\"\n",
    "        self.Url = \"\"\n",
    "        self.ProfileAvailable=False\n",
    "        self.FirstName = \"\"\n",
    "        self.AgeLocation = \"\"\n",
    "        self.Subscriber = \"\"\n",
    "        self.LastOnline = \"\"\n",
    "        self.MiniEssayTitle = \"\"\n",
    "        self.MiniEssayContent = \"\"\n",
    "        self.Summary = \"\"\n",
    "        self.ScanDateTime = \"\"\n",
    "        self.Rating = 0\n",
    "\n",
    "\n",
    "    # self.AgeLocation is of the format \"49 • Peterborough, ON\"\n",
    "    @property\n",
    "    def Age(self):\n",
    "\n",
    "        age = 0\n",
    "        # 60 • Etobicoke, ON\n",
    "        if self.__delim in self.AgeLocation:\n",
    "            alSplit = self.AgeLocation.split(self.__delim)\n",
    "            age = int(alSplit[0])\n",
    "        return age\n",
    "\n",
    "    @property\n",
    "    def Location(self):\n",
    "\n",
    "        location = \"\"\n",
    "        if self.__delim in self.AgeLocation:\n",
    "            alSplit = self.AgeLocation.split(self.__delim)\n",
    "            location = alSplit[1]\n",
    "        return location\n",
    "    \n",
    "    @property\n",
    "    def TownCity(self):\n",
    "\n",
    "        townCity = \"\"\n",
    "        location = self.Location\n",
    "        delim = \", \"\n",
    "        if delim in location:\n",
    "            locSplit = location.split(delim)\n",
    "            townCity = locSplit[0]\n",
    "        return townCity\n",
    "\n",
    "    @property\n",
    "    def Province(self):\n",
    "\n",
    "        province = \"\"\n",
    "        location = self.Location\n",
    "        delim = \", \"\n",
    "        if delim in location:\n",
    "            locSplit = location.split(delim)\n",
    "            province = locSplit[0]\n",
    "        return province\n"
   ]
  },
  {
   "cell_type": "markdown",
   "metadata": {},
   "source": [
    "Grab all current users from the database."
   ]
  },
  {
   "cell_type": "code",
   "execution_count": 5,
   "metadata": {},
   "outputs": [],
   "source": [
    "# Grab all \n",
    "with matchDb.cursor() as cursor:\n",
    "    selectQuery = f\"SELECT * FROM MatchDb.Users\"\n",
    "    cursor.execute(selectQuery)\n",
    "    allUsers = cursor.fetchall()\n"
   ]
  },
  {
   "cell_type": "code",
   "execution_count": 6,
   "metadata": {},
   "outputs": [
    {
     "data": {
      "text/plain": [
       "2617"
      ]
     },
     "execution_count": 6,
     "metadata": {},
     "output_type": "execute_result"
    }
   ],
   "source": [
    "userCount = len(allUsers)\n",
    "userCount"
   ]
  },
  {
   "cell_type": "code",
   "execution_count": 7,
   "metadata": {},
   "outputs": [
    {
     "name": "stdout",
     "output_type": "stream",
     "text": [
      "(1, 'wxzetG5wchZXxt7qDn6HPQ2', 'https://www.match.com/profile/wxzetG5wchZXxt7qDn6HPQ2', 'Phi', '59 • North York, ON', 1, 'Active 1 hour ago', 'The way to my heart is through', 'your 💗', 'Hi, to start all my pictures are current.\\n\\nI would describe my personal style as very feminine🌸. \\nFriends would describe me \\nas easy to talk to, having a calm voice/disposition, warm, and down to earth. \\n\\nI love meditation, yoga, comedies, people with a good sense of humour and I love all animals esp dogs cats horses..\\n\\nMy beautiful mother was Latvian and my father was from Morocco.  I had a pretty traditional European upbringing.\\n\\nI love baking esp because it makes my home smell good and consider myself a creative cook.  I’m always up for a drive in the countryside or to a beach… one of my favourite things to do because I love taking in the clouds, the sky, water and any wildlife that decides to cross my path.\\n\\nRight now I’m focusing on my art and after years of sculpting …have branched into illustration. Working on a number of projects.  I also have a love of science and history.\\n\\nIn my career I’ve been a private secretary and have also been a librarian. I love books. My favourite book of all time is To kill a Mockingbird but up there in importance is Sherlock Holmes, Harry Potter, Shakespeare, and I love to collect cookbooks…esp French and Italian.\\n\\nI trained in ballet when I was younger.  With dance comes the love of music. And I pretty much listen to everything.   For some of my downtime I love to be in a gym, at a fitness class or outdoors just walking…. Love skating and rollerblading and swimming too. And I play golf.', datetime.datetime(2023, 8, 25, 8, 13), '5')\n",
      "(2, 'G_ZEss4kJ5nU8knZcXD2_Q2', 'https://www.match.com/profile/G_ZEss4kJ5nU8knZcXD2_Q2', 'Maggie', '60 • Etobicoke, ON', 1, 'Active 1 hour ago', 'To me, the hallmark of a good relationship is', 'a shared sense of humour ,honesty,mutual respect ,empathy and passion!', 'Proud mom of two incredible young adults . I am a hopeless romantic  with a mischievous sense of humour . I am yearning for the ‘someone’ who becomes the reason of my smile .. the “one you always miss whenever you smile randomly with any other person “.', datetime.datetime(2023, 8, 25, 8, 13), '2')\n",
      "(3, 'B_todX64oteMTTkqBGeGvA2', 'https://www.match.com/profile/B_todX64oteMTTkqBGeGvA2', 'Tracey', '60 • Etobicoke, ON', 1, 'Active 14 hours ago', 'Right now I am reading', 'The Lincoln Highway (Amor Towles), A New Earth (Eckhart Tolle)', \"Hi there!  People tell me I’m kind, intelligent, fun, easy to be with, open-minded. I really enjoy life – a glass is half-full type of person. I take a balanced and holistic approach – mind, body and spirit. I love to learn and to try new things.\\n\\nWalking in nature is one of my favourite things. I'm active and fit -- enjoy yoga, hiking, tennis, dancing, reading, good conversation, spending time with family and friends. I'm now semi-retired -- working part-time and doing some volunteer work -- after having had a fulfilling business career.\\n\\nI’ve been fortunate to travel some and look forward to much more! Have my eye on Hawaii, Newfoundland and Scotland in the near future. I recently walked 200 km of the Camino de Santiago in Spain.\\n\\nI treasure close family relationships and friendships. My three adult children are now out on their own and I’m very close to them.\\n\\nI’d love to meet a man who I have lots in common with…where there is a basis for an easy friendship yet also a spark and physical chemistry.  I value integrity, intelligence, male energy and a sense of fun with a positive outlook on life. \\n\\nIf you think we’d have a connection and lots in common, please drop me a line. Best wishes for your search!\", datetime.datetime(2023, 8, 25, 8, 13), '3')\n",
      "(4, 'BixA6EJdyB5oTowCS7-3Gg2', 'https://www.match.com/profile/BixA6EJdyB5oTowCS7-3Gg2', 'Nicole', '49 • Peterborough, ON', 1, 'Active 10 hours ago', 'I’m weirdly attracted to', 'A good cologne is my weakness', 'I have been single for 4 years after a long term relationship/marriage.  I have a great life, amazing kids, friends and family.  But I’m also at the point in my life were I’d like someone to share it with someone again.  I don’t need someone, but want someone and I think that’s important.  Looking to date basically and see what happens. \\n\\nI know from my single male friends that some ladies have a long list of expectations, not really my style as I’m pretty easy going lol.  I tend to go for the blue collared Dad-bod type.  The Dad part isn’t a deal breaker, but I do find shared life experiences are a plus.  And a guy who is a good Dad is seriously attractive to me frankly.  For me it’s more about how someone treats me and makes me feel above anything else.\\n\\nAs for me I’m all about enjoying life at this stage in my life, doing new things, new experiences and laughing my ass off. \\n\\nLadies my age seem to attract the mid 30 guys looking for the whole cougar/cub/MILF situation.  Though I’m sure you’re adorable, that’s not my scene and you definitely don’t want to date me 😜.\\n\\nSo if you want to have a drink, have a few laughs, send me a message.', datetime.datetime(2023, 8, 25, 8, 13), '1')\n",
      "(5, 'u0mf2joc8h8btYWxh937qg2', 'https://www.match.com/profile/u0mf2joc8h8btYWxh937qg2', 'Line', '60 • Guelph, ON', 1, 'Active 1 hour ago', 'After a bad day, you can find me', 'exercising in the backyard or gym or living room. anywhere where there’s room to move. I incorporate dancing in there too so music is always playing.', 'I have never gone online before to look for what I hope to find, my soulmate. So let’s see who is out there. I am not looking for a fling or one night stand. I’m looking for a serious LTR is what I’m looking for. \\nI grew up in northern Ontario and in Montréal.  I got a job with the coroner’s office. Yes, I tagged and bagged. I did apparent identification markers and fingerprinting too. This was way before those CSI shows came out on tv. \\nI have worn many hats but I can tell you all about that if we end up meeting. \\nI have a wonderful 26 y.o. son who lives on his own. I am happily separated and divorced. If the person I meet has children, I am perfectly comfortable with this. Family is of utmost importance. I have 1 sister and 2 brothers.  The age difference is only 3 years, 9 months, less 1 day.  So yes, we are close. \\nI don’t have many friends but the ones I have are very close to to my heart. Two of them have been my friends for 52 years.  Each!\\nWe should both value family, honesty, transparency, communication, kindness, laughter, loyalty, cuddling, romance, passion and so much more. \\nNo games, no players, please.', datetime.datetime(2023, 8, 25, 8, 13), '1')\n"
     ]
    }
   ],
   "source": [
    "for user in allUsers[:5]:\n",
    "    print(user)"
   ]
  },
  {
   "cell_type": "code",
   "execution_count": 8,
   "metadata": {},
   "outputs": [],
   "source": [
    "matchUsers = []\n",
    "for user in allUsers:\n",
    "\n",
    "    matchUser = MatchUser(id=user[0],\n",
    "                          MatchUserId=user[1],\n",
    "                          Url=user[2],\n",
    "                          ProfileAvailable=True,\n",
    "                          FirstName=user[3],\n",
    "                          AgeLocation=user[4],\n",
    "                          Subscriber=user[5],\n",
    "                          LastOnline=user[6],\n",
    "                          MiniEssayTitle=user[7],\n",
    "                          MiniEssayContent=user[8],\n",
    "                          Summary=user[9],\n",
    "                          ScanDateTime=user[10],\n",
    "                          Rating=user[11]\n",
    "                        )\n",
    "    matchUsers.append(matchUser)"
   ]
  },
  {
   "cell_type": "code",
   "execution_count": 1,
   "metadata": {},
   "outputs": [],
   "source": [
    "from selenium import webdriver\n",
    "\n",
    "from selenium.webdriver.chrome.options import Options as ChromeOptions\n",
    "from selenium.webdriver.chrome.service import Service as ChromeService\n",
    "\n"
   ]
  },
  {
   "cell_type": "code",
   "execution_count": 2,
   "metadata": {},
   "outputs": [],
   "source": [
    "chromedriver_path = '/usr/local/bin/chromedriver'\n",
    "# chromeService = ChromeService(executable_path=chromedriver_path, port=9224)\n",
    "chromeService = ChromeService(executable_path=chromedriver_path)\n",
    "\n",
    "\n",
    "\n",
    "\n",
    "# chromeOptions = ChromeOptions()\n",
    "# chromeOptions.headless = True\n",
    "# chromeOptions.binary_location = '/usr/bin/brave-browser'\n",
    "# chromeOptions.add_argument('--remote-debugging-port=9224') \n",
    "\n",
    "# driver = webdriver.Chrome(options = chromeOptions,  service=chromeService)"
   ]
  },
  {
   "cell_type": "code",
   "execution_count": 2,
   "metadata": {},
   "outputs": [],
   "source": [
    "chromeService = ChromeService()"
   ]
  },
  {
   "cell_type": "code",
   "execution_count": null,
   "metadata": {},
   "outputs": [],
   "source": [
    "# ChromeService()"
   ]
  },
  {
   "cell_type": "code",
   "execution_count": 3,
   "metadata": {},
   "outputs": [],
   "source": [
    "chromeOptions = ChromeOptions()"
   ]
  },
  {
   "cell_type": "code",
   "execution_count": null,
   "metadata": {},
   "outputs": [],
   "source": []
  },
  {
   "cell_type": "code",
   "execution_count": 4,
   "metadata": {},
   "outputs": [],
   "source": [
    "# chromeOptions.headless = True\n",
    "chromeOptions.binary_location = '/usr/bin/brave-browser'\n",
    "# chromeOptions.add_argument('--remote-debugging-port=9224') "
   ]
  },
  {
   "cell_type": "code",
   "execution_count": 5,
   "metadata": {},
   "outputs": [],
   "source": [
    "driver = webdriver.Chrome(options = chromeOptions,  service=chromeService)"
   ]
  },
  {
   "cell_type": "code",
   "execution_count": 9,
   "metadata": {},
   "outputs": [],
   "source": [
    "from MatchFunctions import createNewDriver"
   ]
  },
  {
   "cell_type": "code",
   "execution_count": 10,
   "metadata": {},
   "outputs": [],
   "source": [
    "driver = createNewDriver()"
   ]
  },
  {
   "cell_type": "code",
   "execution_count": 11,
   "metadata": {},
   "outputs": [],
   "source": [
    "pageScan = []\n",
    "for matchUser in matchUsers[:5]:\n",
    "\n",
    "        driver.get(matchUser.Url)\n",
    "\n"
   ]
  },
  {
   "cell_type": "code",
   "execution_count": null,
   "metadata": {},
   "outputs": [],
   "source": [
    "matchDb.commit()"
   ]
  },
  {
   "cell_type": "code",
   "execution_count": 20,
   "metadata": {},
   "outputs": [],
   "source": [
    "\n",
    "matchDb.close()"
   ]
  }
 ],
 "metadata": {
  "kernelspec": {
   "display_name": "nlp4html",
   "language": "python",
   "name": "python3"
  },
  "language_info": {
   "codemirror_mode": {
    "name": "ipython",
    "version": 3
   },
   "file_extension": ".py",
   "mimetype": "text/x-python",
   "name": "python",
   "nbconvert_exporter": "python",
   "pygments_lexer": "ipython3",
   "version": "3.12.0"
  }
 },
 "nbformat": 4,
 "nbformat_minor": 2
}
