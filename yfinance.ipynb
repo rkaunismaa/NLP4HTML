{
 "cells": [
  {
   "cell_type": "markdown",
   "metadata": {},
   "source": [
    "Let's mess with yfinance api ...\n",
    "\n",
    "https://pypi.org/project/yfinance/"
   ]
  },
  {
   "cell_type": "code",
   "execution_count": 1,
   "metadata": {},
   "outputs": [],
   "source": [
    "import yfinance as yf"
   ]
  },
  {
   "cell_type": "code",
   "execution_count": 2,
   "metadata": {},
   "outputs": [],
   "source": [
    "msft = yf.Ticker(\"MSFT\")"
   ]
  },
  {
   "cell_type": "code",
   "execution_count": 3,
   "metadata": {},
   "outputs": [
    {
     "data": {
      "text/plain": [
       "{'address1': 'One Microsoft Way',\n",
       " 'city': 'Redmond',\n",
       " 'state': 'WA',\n",
       " 'zip': '98052-6399',\n",
       " 'country': 'United States',\n",
       " 'phone': '425 882 8080',\n",
       " 'fax': '425 706 7329',\n",
       " 'website': 'https://www.microsoft.com',\n",
       " 'industry': 'Software—Infrastructure',\n",
       " 'industryDisp': 'Software—Infrastructure',\n",
       " 'sector': 'Technology',\n",
       " 'longBusinessSummary': 'Microsoft Corporation develops, licenses, and supports software, services, devices, and solutions worldwide. The company operates in three segments: Productivity and Business Processes, Intelligent Cloud, and More Personal Computing. The Productivity and Business Processes segment offers Office, Exchange, SharePoint, Microsoft Teams, Office 365 Security and Compliance, Microsoft Viva, and Skype for Business; Skype, Outlook.com, OneDrive, and LinkedIn; and Dynamics 365, a set of cloud-based and on-premises business solutions for organizations and enterprise divisions. The Intelligent Cloud segment licenses SQL, Windows Servers, Visual Studio, System Center, and related Client Access Licenses; GitHub that provides a collaboration platform and code hosting service for developers; Nuance provides healthcare and enterprise AI solutions; and Azure, a cloud platform. It also offers enterprise support, Microsoft consulting, and nuance professional services to assist customers in developing, deploying, and managing Microsoft server and desktop solutions; and training and certification on Microsoft products. The More Personal Computing segment provides Windows original equipment manufacturer (OEM) licensing and other non-volume licensing of the Windows operating system; Windows Commercial, such as volume licensing of the Windows operating system, Windows cloud services, and other Windows commercial offerings; patent licensing; and Windows Internet of Things. It also offers Surface, PC accessories, PCs, tablets, gaming and entertainment consoles, and other devices; Gaming, including Xbox hardware, and Xbox content and services; video games and third-party video game royalties; and Search, including Bing and Microsoft advertising. The company sells its products through OEMs, distributors, and resellers; and directly through digital marketplaces, online stores, and retail stores. Microsoft Corporation was founded in 1975 and is headquartered in Redmond, Washington.',\n",
       " 'fullTimeEmployees': 221000,\n",
       " 'companyOfficers': [{'maxAge': 1,\n",
       "   'name': 'Mr. Satya  Nadella',\n",
       "   'age': 55,\n",
       "   'title': 'Chairman & CEO',\n",
       "   'yearBorn': 1967,\n",
       "   'fiscalYear': 2022,\n",
       "   'totalPay': 12676750,\n",
       "   'exercisedValue': 0,\n",
       "   'unexercisedValue': 0},\n",
       "  {'maxAge': 1,\n",
       "   'name': 'Mr. Bradford L. Smith LCA',\n",
       "   'age': 63,\n",
       "   'title': 'Pres & Vice Chairman',\n",
       "   'yearBorn': 1959,\n",
       "   'fiscalYear': 2022,\n",
       "   'totalPay': 4655274,\n",
       "   'exercisedValue': 0,\n",
       "   'unexercisedValue': 0},\n",
       "  {'maxAge': 1,\n",
       "   'name': 'Ms. Amy E. Hood',\n",
       "   'age': 50,\n",
       "   'title': 'Exec. VP & CFO',\n",
       "   'yearBorn': 1972,\n",
       "   'fiscalYear': 2022,\n",
       "   'totalPay': 4637915,\n",
       "   'exercisedValue': 0,\n",
       "   'unexercisedValue': 0},\n",
       "  {'maxAge': 1,\n",
       "   'name': 'Mr. Judson  Althoff',\n",
       "   'age': 49,\n",
       "   'title': 'Exec. VP & Chief Commercial Officer',\n",
       "   'yearBorn': 1973,\n",
       "   'fiscalYear': 2022,\n",
       "   'totalPay': 4428268,\n",
       "   'exercisedValue': 0,\n",
       "   'unexercisedValue': 0},\n",
       "  {'maxAge': 1,\n",
       "   'name': 'Mr. Christopher David Young',\n",
       "   'age': 50,\n",
       "   'title': 'Exec. VP of Bus. Devel., Strategy & Ventures',\n",
       "   'yearBorn': 1972,\n",
       "   'fiscalYear': 2022,\n",
       "   'totalPay': 4588876,\n",
       "   'exercisedValue': 0,\n",
       "   'unexercisedValue': 0},\n",
       "  {'maxAge': 1,\n",
       "   'name': 'Ms. Alice L. Jolla',\n",
       "   'age': 55,\n",
       "   'title': 'Corp. VP & Chief Accounting Officer',\n",
       "   'yearBorn': 1967,\n",
       "   'exercisedValue': 0,\n",
       "   'unexercisedValue': 0},\n",
       "  {'maxAge': 1,\n",
       "   'name': 'Mr. James Kevin Scott',\n",
       "   'age': 50,\n",
       "   'title': 'Exec. VP of AI & CTO',\n",
       "   'yearBorn': 1972,\n",
       "   'exercisedValue': 0,\n",
       "   'unexercisedValue': 0},\n",
       "  {'maxAge': 1,\n",
       "   'name': 'Brett  Iversen',\n",
       "   'title': 'Gen. Mang. of Investor Relations',\n",
       "   'exercisedValue': 0,\n",
       "   'unexercisedValue': 0},\n",
       "  {'maxAge': 1,\n",
       "   'name': 'Mr. Frank X. Shaw',\n",
       "   'title': 'Corp. VP for Corp. Communications',\n",
       "   'exercisedValue': 0,\n",
       "   'unexercisedValue': 0},\n",
       "  {'maxAge': 1,\n",
       "   'name': 'Mr. Christopher C. Capossela',\n",
       "   'age': 52,\n",
       "   'title': 'Exec. VP & Chief Marketing Officer',\n",
       "   'yearBorn': 1970,\n",
       "   'exercisedValue': 0,\n",
       "   'unexercisedValue': 0}],\n",
       " 'auditRisk': 6,\n",
       " 'boardRisk': 3,\n",
       " 'compensationRisk': 3,\n",
       " 'shareHolderRightsRisk': 2,\n",
       " 'overallRisk': 2,\n",
       " 'governanceEpochDate': 1688169600,\n",
       " 'compensationAsOfEpochDate': 1672444800,\n",
       " 'maxAge': 86400,\n",
       " 'priceHint': 2,\n",
       " 'previousClose': 337.2,\n",
       " 'open': 339.56,\n",
       " 'dayLow': 339.02,\n",
       " 'dayHigh': 342.47,\n",
       " 'regularMarketPreviousClose': 337.2,\n",
       " 'regularMarketOpen': 339.56,\n",
       " 'regularMarketDayLow': 339.02,\n",
       " 'regularMarketDayHigh': 342.47,\n",
       " 'dividendRate': 2.72,\n",
       " 'dividendYield': 0.0081,\n",
       " 'exDividendDate': 1692144000,\n",
       " 'payoutRatio': 0.28170002,\n",
       " 'fiveYearAvgDividendYield': 1.07,\n",
       " 'beta': 0.91086,\n",
       " 'trailingPE': 36.97511,\n",
       " 'forwardPE': 31.200912,\n",
       " 'volume': 12594121,\n",
       " 'regularMarketVolume': 12594121,\n",
       " 'averageVolume': 27292247,\n",
       " 'averageVolume10days': 23356280,\n",
       " 'averageDailyVolume10Day': 23356280,\n",
       " 'bid': 341.0,\n",
       " 'ask': 341.02,\n",
       " 'bidSize': 800,\n",
       " 'askSize': 1100,\n",
       " 'marketCap': 2540335005696,\n",
       " 'fiftyTwoWeekLow': 213.43,\n",
       " 'fiftyTwoWeekHigh': 351.47,\n",
       " 'priceToSalesTrailing12Months': 12.237212,\n",
       " 'fiftyDayAverage': 326.065,\n",
       " 'twoHundredDayAverage': 270.7236,\n",
       " 'trailingAnnualDividendRate': 2.66,\n",
       " 'trailingAnnualDividendYield': 0.007888493,\n",
       " 'currency': 'USD',\n",
       " 'enterpriseValue': 2446969536512,\n",
       " 'profitMargins': 0.33248,\n",
       " 'floatShares': 7429390475,\n",
       " 'sharesOutstanding': 7435489792,\n",
       " 'sharesShort': 38002864,\n",
       " 'sharesShortPriorMonth': 46395809,\n",
       " 'sharesShortPreviousMonthDate': 1685491200,\n",
       " 'dateShortInterest': 1688083200,\n",
       " 'sharesPercentSharesOut': 0.0050999997,\n",
       " 'heldPercentInsiders': 0.00052,\n",
       " 'heldPercentInstitutions': 0.73767,\n",
       " 'shortRatio': 1.4,\n",
       " 'shortPercentOfFloat': 0.0050999997,\n",
       " 'impliedSharesOutstanding': 0,\n",
       " 'bookValue': 26.178,\n",
       " 'priceToBook': 13.051035,\n",
       " 'lastFiscalYearEnd': 1656547200,\n",
       " 'nextFiscalYearEnd': 1688083200,\n",
       " 'mostRecentQuarter': 1680220800,\n",
       " 'earningsQuarterlyGrowth': 0.094,\n",
       " 'netIncomeToCommon': 69020000256,\n",
       " 'trailingEps': 9.24,\n",
       " 'forwardEps': 10.95,\n",
       " 'pegRatio': 2.89,\n",
       " 'lastSplitFactor': '2:1',\n",
       " 'lastSplitDate': 1045526400,\n",
       " 'enterpriseToRevenue': 11.787,\n",
       " 'enterpriseToEbitda': 24.45,\n",
       " '52WeekChange': 32.714104,\n",
       " 'SandP52WeekChange': 17.98712,\n",
       " 'lastDividendValue': 0.68,\n",
       " 'lastDividendDate': 1684281600,\n",
       " 'exchange': 'NMS',\n",
       " 'quoteType': 'EQUITY',\n",
       " 'symbol': 'MSFT',\n",
       " 'underlyingSymbol': 'MSFT',\n",
       " 'shortName': 'Microsoft Corporation',\n",
       " 'longName': 'Microsoft Corporation',\n",
       " 'firstTradeDateEpochUtc': 511108200,\n",
       " 'timeZoneFullName': 'America/New_York',\n",
       " 'timeZoneShortName': 'EDT',\n",
       " 'uuid': 'b004b3ec-de24-385e-b2c1-923f10d3fb62',\n",
       " 'messageBoardId': 'finmb_21835',\n",
       " 'gmtOffSetMilliseconds': -14400000,\n",
       " 'currentPrice': 341.65,\n",
       " 'targetHighPrice': 415.0,\n",
       " 'targetLowPrice': 232.0,\n",
       " 'targetMeanPrice': 345.37,\n",
       " 'targetMedianPrice': 345.0,\n",
       " 'recommendationMean': 1.8,\n",
       " 'recommendationKey': 'buy',\n",
       " 'numberOfAnalystOpinions': 43,\n",
       " 'totalCash': 104419000320,\n",
       " 'totalCashPerShare': 14.043,\n",
       " 'ebitda': 100080001024,\n",
       " 'totalDebt': 79312003072,\n",
       " 'quickRatio': 1.655,\n",
       " 'currentRatio': 1.913,\n",
       " 'totalRevenue': 207590998016,\n",
       " 'debtToEquity': 40.739,\n",
       " 'revenuePerShare': 27.844,\n",
       " 'returnOnAssets': 0.14829001,\n",
       " 'returnOnEquity': 0.38601002,\n",
       " 'grossProfits': 135620000000,\n",
       " 'freeCashflow': 42964873216,\n",
       " 'operatingCashflow': 83441000448,\n",
       " 'earningsGrowth': 0.104,\n",
       " 'revenueGrowth': 0.071,\n",
       " 'grossMargins': 0.68522,\n",
       " 'ebitdaMargins': 0.48209998,\n",
       " 'operatingMargins': 0.41415,\n",
       " 'financialCurrency': 'USD',\n",
       " 'trailingPegRatio': 2.4778}"
      ]
     },
     "execution_count": 3,
     "metadata": {},
     "output_type": "execute_result"
    }
   ],
   "source": [
    "# get all stock info\n",
    "msft.info"
   ]
  },
  {
   "cell_type": "code",
   "execution_count": null,
   "metadata": {},
   "outputs": [],
   "source": [
    "# get historical market data\n",
    "hist = msft.history(period=\"1mo\")"
   ]
  },
  {
   "cell_type": "code",
   "execution_count": null,
   "metadata": {},
   "outputs": [],
   "source": [
    "# show meta information about the history (requires history() to be called first)\n",
    "msft.history_metadata"
   ]
  },
  {
   "cell_type": "code",
   "execution_count": null,
   "metadata": {},
   "outputs": [],
   "source": [
    "# show actions (dividends, splits, capital gains)\n",
    "msft.actions\n",
    "msft.dividends\n",
    "msft.splits\n",
    "msft.capital_gains  # only for mutual funds & etfs"
   ]
  },
  {
   "cell_type": "code",
   "execution_count": null,
   "metadata": {},
   "outputs": [],
   "source": [
    "# show share count\n",
    "msft.get_shares_full(start=\"2022-01-01\", end=None)"
   ]
  },
  {
   "cell_type": "code",
   "execution_count": null,
   "metadata": {},
   "outputs": [],
   "source": [
    "\n",
    "# show financials:\n",
    "# - income statement\n",
    "msft.income_stmt\n",
    "msft.quarterly_income_stmt\n",
    "# - balance sheet\n",
    "msft.balance_sheet\n",
    "msft.quarterly_balance_sheet\n",
    "# - cash flow statement\n",
    "msft.cashflow\n",
    "msft.quarterly_cashflow\n",
    "# see `Ticker.get_income_stmt()` for more options"
   ]
  },
  {
   "cell_type": "code",
   "execution_count": null,
   "metadata": {},
   "outputs": [],
   "source": [
    "# show holders\n",
    "msft.major_holders\n",
    "msft.institutional_holders\n",
    "msft.mutualfund_holders\n"
   ]
  },
  {
   "cell_type": "code",
   "execution_count": null,
   "metadata": {},
   "outputs": [],
   "source": [
    "# Show future and historic earnings dates, returns at most next 4 quarters and last 8 quarters by default. \n",
    "# Note: If more are needed use msft.get_earnings_dates(limit=XX) with increased limit argument.\n",
    "msft.earnings_dates"
   ]
  },
  {
   "cell_type": "code",
   "execution_count": null,
   "metadata": {},
   "outputs": [],
   "source": [
    "# show ISIN code - *experimental*\n",
    "# ISIN = International Securities Identification Number\n",
    "msft.isin"
   ]
  },
  {
   "cell_type": "code",
   "execution_count": null,
   "metadata": {},
   "outputs": [],
   "source": [
    "# show options expirations\n",
    "msft.options"
   ]
  },
  {
   "cell_type": "code",
   "execution_count": null,
   "metadata": {},
   "outputs": [],
   "source": [
    "# show news\n",
    "msft.news"
   ]
  },
  {
   "cell_type": "code",
   "execution_count": null,
   "metadata": {},
   "outputs": [],
   "source": [
    "# get option chain for specific expiration\n",
    "opt = msft.option_chain('YYYY-MM-DD')\n",
    "# data available via: opt.calls, opt.puts"
   ]
  }
 ],
 "metadata": {
  "kernelspec": {
   "display_name": "Python 3",
   "language": "python",
   "name": "python3"
  },
  "language_info": {
   "codemirror_mode": {
    "name": "ipython",
    "version": 3
   },
   "file_extension": ".py",
   "mimetype": "text/x-python",
   "name": "python",
   "nbconvert_exporter": "python",
   "pygments_lexer": "ipython3",
   "version": "3.8.10"
  },
  "orig_nbformat": 4
 },
 "nbformat": 4,
 "nbformat_minor": 2
}
